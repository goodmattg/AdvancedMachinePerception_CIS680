{
  "nbformat": 4,
  "nbformat_minor": 0,
  "metadata": {
    "colab": {
      "name": "HW1_P4",
      "provenance": [],
      "collapsed_sections": []
    },
    "kernelspec": {
      "name": "python3",
      "display_name": "Python 3"
    },
    "accelerator": "GPU"
  },
  "cells": [
    {
      "cell_type": "code",
      "metadata": {
        "id": "gu9LBtXbEnbW",
        "colab_type": "code",
        "outputId": "a615865e-809f-44ef-ec52-0784690622c3",
        "colab": {
          "base_uri": "https://localhost:8080/",
          "height": 122
        }
      },
      "source": [
        "# %matplotlib inline\n",
        "import torch\n",
        "import numpy as np\n",
        "import torch.nn as nn\n",
        "import torch.optim as optim\n",
        "from google.colab import files\n",
        "from google.colab import drive\n",
        "drive.mount('/content/gdrive')\n",
        "\n",
        "import torchvision\n",
        "import torchvision.transforms as transforms\n",
        "from matplotlib import cm\n",
        "\n",
        "from torch.nn import Conv2d, AvgPool2d, BatchNorm2d, BatchNorm1d\n",
        "import torch.nn.functional as F\n",
        "from torchsummary import summary\n",
        "import os\n",
        "import matplotlib.pyplot as plt"
      ],
      "execution_count": 1,
      "outputs": [
        {
          "output_type": "stream",
          "text": [
            "Go to this URL in a browser: https://accounts.google.com/o/oauth2/auth?client_id=947318989803-6bn6qk8qdgf4n4g3pfee6491hc0brc4i.apps.googleusercontent.com&redirect_uri=urn%3Aietf%3Awg%3Aoauth%3A2.0%3Aoob&scope=email%20https%3A%2F%2Fwww.googleapis.com%2Fauth%2Fdocs.test%20https%3A%2F%2Fwww.googleapis.com%2Fauth%2Fdrive%20https%3A%2F%2Fwww.googleapis.com%2Fauth%2Fdrive.photos.readonly%20https%3A%2F%2Fwww.googleapis.com%2Fauth%2Fpeopleapi.readonly&response_type=code\n",
            "\n",
            "Enter your authorization code:\n",
            "··········\n",
            "Mounted at /content/gdrive\n"
          ],
          "name": "stdout"
        }
      ]
    },
    {
      "cell_type": "code",
      "metadata": {
        "id": "XlA1iyNCxC1r",
        "colab_type": "code",
        "colab": {}
      },
      "source": [
        "from torch.autograd import Variable\n",
        "from torch.utils.data import DataLoader"
      ],
      "execution_count": 0,
      "outputs": []
    },
    {
      "cell_type": "code",
      "metadata": {
        "id": "BmPwcVLiGkFh",
        "colab_type": "code",
        "outputId": "355d3d20-5bad-4c49-d54e-59b56fdc6137",
        "colab": {
          "base_uri": "https://localhost:8080/",
          "height": 34
        }
      },
      "source": [
        "USE_CUDA = True\n",
        "DEVICE = torch.device(\"cuda\" if (USE_CUDA and torch.cuda.is_available()) else \"cpu\")\n",
        "print(\"Using device: {}\".format(DEVICE))"
      ],
      "execution_count": 5,
      "outputs": [
        {
          "output_type": "stream",
          "text": [
            "Using device: cuda\n"
          ],
          "name": "stdout"
        }
      ]
    },
    {
      "cell_type": "code",
      "metadata": {
        "id": "pa77ZmeMEr4W",
        "colab_type": "code",
        "colab": {
          "base_uri": "https://localhost:8080/",
          "height": 275
        },
        "outputId": "e7b3ceaf-7eac-4503-ceb6-b06bd4b570c3"
      },
      "source": [
        "transform = transforms.Compose(\n",
        "    [transforms.ToTensor(),\n",
        "     transforms.Normalize((0.5,), (0.5,))])\n",
        "\n",
        "trainset = torchvision.datasets.MNIST(root='./data', train=True,\n",
        "                                        download=True, transform=transform)\n",
        "\n",
        "trainloader = torch.utils.data.DataLoader(trainset, batch_size=64,\n",
        "                                          shuffle=True, num_workers=2)\n",
        "\n",
        "testset = torchvision.datasets.MNIST(root='./data', train=False,\n",
        "                                       download=True, transform=transform)\n",
        "\n",
        "testloader = torch.utils.data.DataLoader(testset, batch_size=2,\n",
        "                                         shuffle=False, num_workers=2)\n"
      ],
      "execution_count": 6,
      "outputs": [
        {
          "output_type": "stream",
          "text": [
            "\r0it [00:00, ?it/s]"
          ],
          "name": "stderr"
        },
        {
          "output_type": "stream",
          "text": [
            "Downloading http://yann.lecun.com/exdb/mnist/train-images-idx3-ubyte.gz to ./data/MNIST/raw/train-images-idx3-ubyte.gz\n"
          ],
          "name": "stdout"
        },
        {
          "output_type": "stream",
          "text": [
            "9920512it [00:02, 3387294.14it/s]                            \n"
          ],
          "name": "stderr"
        },
        {
          "output_type": "stream",
          "text": [
            "Extracting ./data/MNIST/raw/train-images-idx3-ubyte.gz\n"
          ],
          "name": "stdout"
        },
        {
          "output_type": "stream",
          "text": [
            "\r0it [00:00, ?it/s]"
          ],
          "name": "stderr"
        },
        {
          "output_type": "stream",
          "text": [
            "Downloading http://yann.lecun.com/exdb/mnist/train-labels-idx1-ubyte.gz to ./data/MNIST/raw/train-labels-idx1-ubyte.gz\n"
          ],
          "name": "stdout"
        },
        {
          "output_type": "stream",
          "text": [
            "32768it [00:00, 48651.03it/s]                           \n",
            "0it [00:00, ?it/s]"
          ],
          "name": "stderr"
        },
        {
          "output_type": "stream",
          "text": [
            "Extracting ./data/MNIST/raw/train-labels-idx1-ubyte.gz\n",
            "Downloading http://yann.lecun.com/exdb/mnist/t10k-images-idx3-ubyte.gz to ./data/MNIST/raw/t10k-images-idx3-ubyte.gz\n"
          ],
          "name": "stdout"
        },
        {
          "output_type": "stream",
          "text": [
            "1654784it [00:01, 827413.70it/s]                             \n",
            "0it [00:00, ?it/s]"
          ],
          "name": "stderr"
        },
        {
          "output_type": "stream",
          "text": [
            "Extracting ./data/MNIST/raw/t10k-images-idx3-ubyte.gz\n",
            "Downloading http://yann.lecun.com/exdb/mnist/t10k-labels-idx1-ubyte.gz to ./data/MNIST/raw/t10k-labels-idx1-ubyte.gz\n"
          ],
          "name": "stdout"
        },
        {
          "output_type": "stream",
          "text": [
            "8192it [00:00, 18317.10it/s]            "
          ],
          "name": "stderr"
        },
        {
          "output_type": "stream",
          "text": [
            "Extracting ./data/MNIST/raw/t10k-labels-idx1-ubyte.gz\n",
            "Processing...\n",
            "Done!\n"
          ],
          "name": "stdout"
        },
        {
          "output_type": "stream",
          "text": [
            "\n"
          ],
          "name": "stderr"
        }
      ]
    },
    {
      "cell_type": "code",
      "metadata": {
        "id": "0qAJKZ0aE1ZU",
        "colab_type": "code",
        "outputId": "7b4ab4cc-e80f-4239-ca51-777ad45f26c4",
        "colab": {
          "base_uri": "https://localhost:8080/",
          "height": 303
        }
      },
      "source": [
        "dataiter = iter(trainloader)\n",
        "images, labels = dataiter.next()\n",
        "\n",
        "def imshow(img):\n",
        "    img = img / 2 + 0.5     # unnormalize\n",
        "    plt.imshow(np.transpose(img[0], (0, 1)), cmap=cm.viridis)\n",
        "    plt.show()\n",
        "    return\n",
        "\n",
        "# show images\n",
        "print(images.shape)\n",
        "imshow(torchvision.utils.make_grid(images).numpy())\n",
        "# print labels\n",
        "print(' '.join('%5s' % labels[j].item() for j in range(10)))"
      ],
      "execution_count": 66,
      "outputs": [
        {
          "output_type": "stream",
          "text": [
            "torch.Size([64, 1, 28, 28])\n"
          ],
          "name": "stdout"
        },
        {
          "output_type": "display_data",
          "data": {
            "image/png": "[encoded data removed]",
            "text/plain": [
              "<Figure size 432x288 with 1 Axes>"
            ]
          },
          "metadata": {
            "tags": []
          }
        },
        {
          "output_type": "stream",
          "text": [
            "    4     9     4     8     7     0     8     1     2     9\n"
          ],
          "name": "stdout"
        }
      ]
    },
    {
      "cell_type": "code",
      "metadata": {
        "id": "6excJuqPE5RK",
        "colab_type": "code",
        "colab": {}
      },
      "source": [
        "class ConvNet(torch.nn.Module):\n",
        "  def __init__(self):\n",
        "      super(ConvNet, self).__init__()\n",
        "      self.conv1 = nn.Conv2d(1, 32, kernel_size=5, padding=5//2)\n",
        "      self.conv1_bn = BatchNorm2d(32)\n",
        "      self.pool1 = nn.AvgPool2d(2, stride=2, padding=0)\n",
        "      self.conv2 = nn.Conv2d(32, 32, kernel_size=5, padding=5//2)\n",
        "      self.conv2_bn = BatchNorm2d(32)\n",
        "      self.pool2 = nn.AvgPool2d(2, stride=2, padding=0)\n",
        "      self.conv3 = nn.Conv2d(32, 64, kernel_size=5, padding=5//2)\n",
        "      self.conv3_bn = BatchNorm2d(64)\n",
        "      self.pool3 = nn.AvgPool2d(2, stride=2, padding=0)\n",
        "      self.fcn1 = nn.Linear(576, 64)\n",
        "      self.fcn1_bn = BatchNorm1d(64)\n",
        "      self.fcn2 = nn.Linear(64, 10)\n",
        "\n",
        "  def forward(self, x):\n",
        "      x = F.relu(self.conv1_bn(self.conv1(x)))\n",
        "      x = self.pool1(x)\n",
        "      x = F.relu(self.conv2_bn(self.conv2(x)))\n",
        "      x = self.pool2(x)\n",
        "      x = F.relu(self.conv3_bn(self.conv3(x)))\n",
        "      x = self.pool3(x)\n",
        "      x = x.view(x.size(0), -1)\n",
        "      x = F.relu(self.fcn1_bn(self.fcn1(x)))\n",
        "      x = self.fcn2(x)\n",
        "      return F.softmax(x, dim=0)"
      ],
      "execution_count": 0,
      "outputs": []
    },
    {
      "cell_type": "code",
      "metadata": {
        "id": "2NCG9WmZE7fU",
        "colab_type": "code",
        "outputId": "7f37d4d6-1998-4856-c4aa-8ab2c7ea4409",
        "colab": {
          "base_uri": "https://localhost:8080/",
          "height": 459
        }
      },
      "source": [
        "PATH = os.getcwd() + '/gdrive/My Drive/Colab Notebooks/CIS680/HW1/conv_net.pt'\n",
        "LOADED_SAVED_MODEL = False\n",
        "\n",
        "net = ConvNet()\n",
        "\n",
        "try:\n",
        "  net.load_state_dict(torch.load(PATH))\n",
        "  print(\"Saved model weights loaded\")\n",
        "  LOADED_SAVED_MODEL = True\n",
        "except:\n",
        "  print(\"Saved model not found\")\n",
        "\n",
        "if torch.cuda.is_available():\n",
        "  net.cuda()\n",
        "\n",
        "summary(net, (1, 28, 28))\n",
        "\n",
        "criterion = nn.CrossEntropyLoss()\n",
        "optimizer = optim.Adam(net.parameters(), lr=0.001)"
      ],
      "execution_count": 68,
      "outputs": [
        {
          "output_type": "stream",
          "text": [
            "Saved model weights loaded\n",
            "----------------------------------------------------------------\n",
            "        Layer (type)               Output Shape         Param #\n",
            "================================================================\n",
            "            Conv2d-1           [-1, 32, 28, 28]             832\n",
            "       BatchNorm2d-2           [-1, 32, 28, 28]              64\n",
            "         AvgPool2d-3           [-1, 32, 14, 14]               0\n",
            "            Conv2d-4           [-1, 32, 14, 14]          25,632\n",
            "       BatchNorm2d-5           [-1, 32, 14, 14]              64\n",
            "         AvgPool2d-6             [-1, 32, 7, 7]               0\n",
            "            Conv2d-7             [-1, 64, 7, 7]          51,264\n",
            "       BatchNorm2d-8             [-1, 64, 7, 7]             128\n",
            "         AvgPool2d-9             [-1, 64, 3, 3]               0\n",
            "           Linear-10                   [-1, 64]          36,928\n",
            "      BatchNorm1d-11                   [-1, 64]             128\n",
            "           Linear-12                   [-1, 10]             650\n",
            "================================================================\n",
            "Total params: 115,690\n",
            "Trainable params: 115,690\n",
            "Non-trainable params: 0\n",
            "----------------------------------------------------------------\n",
            "Input size (MB): 0.00\n",
            "Forward/backward pass size (MB): 0.59\n",
            "Params size (MB): 0.44\n",
            "Estimated Total Size (MB): 1.04\n",
            "----------------------------------------------------------------\n"
          ],
          "name": "stdout"
        }
      ]
    },
    {
      "cell_type": "code",
      "metadata": {
        "id": "B3Ns-Lr7FCJI",
        "colab_type": "code",
        "outputId": "7fc835e4-ac77-4128-b805-33d7a647d2f9",
        "colab": {
          "base_uri": "https://localhost:8080/",
          "height": 34
        }
      },
      "source": [
        "if not LOADED_SAVED_MODEL:\n",
        "  \n",
        "  for epoch in range(5):  # loop over the dataset multiple times\n",
        "\n",
        "      running_loss = 0.0\n",
        "      for i, data in enumerate(trainloader, 0):\n",
        "          # get the inputs; data is a list of [inputs, labels]\n",
        "          inputs, labels = data\n",
        "\n",
        "          inputs = inputs.cuda()\n",
        "          labels = labels.cuda()\n",
        "\n",
        "          # zero the parameter gradients\n",
        "          optimizer.zero_grad()\n",
        "\n",
        "          # forward + backward + optimize\n",
        "          outputs = net(inputs)\n",
        "          loss = criterion(outputs, labels)\n",
        "          loss.backward()\n",
        "          optimizer.step()\n",
        "\n",
        "          # print statistics\n",
        "          running_loss += loss.item()\n",
        "          if i % 250 == 249:    # print every 249 mini-batches\n",
        "              print('[%d, %5d] loss: %.3f' %\n",
        "                    (epoch + 1, i + 1, running_loss / 250))\n",
        "              running_loss = 0.0\n",
        "\n",
        "  print('Finished Training')\n",
        "else:\n",
        "  print(\"Using pre-trained model\")"
      ],
      "execution_count": 69,
      "outputs": [
        {
          "output_type": "stream",
          "text": [
            "Using pre-trained model\n"
          ],
          "name": "stdout"
        }
      ]
    },
    {
      "cell_type": "code",
      "metadata": {
        "id": "ODUECnJOe33d",
        "colab_type": "code",
        "colab": {}
      },
      "source": [
        "MAX_ATTACKS_ON_BATCH = 2"
      ],
      "execution_count": 0,
      "outputs": []
    },
    {
      "cell_type": "code",
      "metadata": {
        "id": "wGiy8kNkGB1i",
        "colab_type": "code",
        "colab": {}
      },
      "source": [
        "def attack(image, epsilon, data_grad):\n",
        "  \n",
        "    sign_data_grad = data_grad.sign()\n",
        "    \n",
        "    # Non-decreasing I_perturbed constraint\n",
        "    sign_data_grad = torch.clamp(sign_data_grad, min=0.)\n",
        "    \n",
        "    img_pet = image + epsilon*sign_data_grad\n",
        "    \n",
        "    # General image value constraint (-1, 1)\n",
        "    img_pet = torch.clamp(img_pet, -1., 1.)\n",
        "\n",
        "    return img_pet"
      ],
      "execution_count": 0,
      "outputs": []
    },
    {
      "cell_type": "code",
      "metadata": {
        "id": "xVQ1iVGbGcMI",
        "colab_type": "code",
        "colab": {}
      },
      "source": [
        "def test(model, device, test_loader, epsilon, save_images=False, nsave=5):\n",
        "\n",
        "    # Accuracy counter\n",
        "    correct = 0\n",
        "    adv_examples = []\n",
        "\n",
        "    # Loop over all examples in test set\n",
        "    for data, target in test_loader:\n",
        "\n",
        "        data, target = data.to(device), target.to(device)\n",
        "\n",
        "        data.requires_grad = True\n",
        "\n",
        "        feed_data = data\n",
        "        n_attacks = 0\n",
        "        \n",
        "        while n_attacks < MAX_ATTACKS_ON_BATCH:\n",
        "        \n",
        "          output = model(feed_data)                       \n",
        "          init_conf, init_pred = output.max(1)\n",
        "\n",
        "          loss = F.nll_loss(output, target) # Loss\n",
        "\n",
        "          model.zero_grad() # zero grads\n",
        "\n",
        "          loss.backward()\n",
        "\n",
        "          data_grad = data.grad.data # get I_pet grad\n",
        "\n",
        "          perturbed_data = attack(feed_data, epsilon, data_grad) # attack\n",
        "\n",
        "          output = model(perturbed_data)\n",
        "          final_conf, final_pred = output.max(1)\n",
        "          \n",
        "          # STOPPING CRITERIA. \n",
        "          high_conf_flips = (\n",
        "              (torch.eq(init_pred, target) == 1) & # initial pred. right\n",
        "              (torch.eq(final_pred, target) == 0) & # final pred. wrong\n",
        "              (final_conf > 0.9)).nonzero() # confidence on final >90%\n",
        " \n",
        "          # The number of flips with high confidence (>90%)\n",
        "          n_hconf = high_conf_flips.view(-1).size(0)\n",
        "\n",
        "          if n_hconf > 0:\n",
        "            break\n",
        "          else:\n",
        "            feed_data = perturbed_data.detach()\n",
        "            n_attacks += 1\n",
        "        \n",
        "        # Compute the batch accuracy\n",
        "        correct_in_minibatch = torch.eq(final_pred, target).sum().item()\n",
        "        correct += correct_in_minibatch\n",
        "\n",
        "        # FANCY SAVING for report\n",
        "        if save_images:\n",
        "          if len(adv_examples) < nsave:\n",
        "            \n",
        "            # Pick a sample from the batch meeting the stopping criteria above\n",
        "            flipped_preds = (\n",
        "                (torch.eq(init_pred, target) == 1) &\n",
        "                (torch.eq(final_pred, target) == 0)&\n",
        "                (final_conf > 0.9)).nonzero().view(-1)\n",
        "            \n",
        "            if flipped_preds.size(0) == 0:\n",
        "              continue\n",
        "            \n",
        "            # Multiple flips per-minibatch. Pick 1 randomly.\n",
        "            idx = torch.randint(0, flipped_preds.size(0), (1,))\n",
        "            selx = flipped_preds[idx]\n",
        "            \n",
        "            # Store the original (image.)\n",
        "            original_ex = data[selx].squeeze().detach().cpu().numpy()\n",
        "            # Store the flipped (adver.) image\n",
        "            flipped_ex = perturbed_data[selx].squeeze().detach().cpu().numpy()\n",
        "            # Store the flipped initial prediction\n",
        "            init_pred_ex = init_pred[selx].item()\n",
        "            # Store the flipped final prediction\n",
        "            final_pred_ex = final_pred[selx].item() \n",
        "            # Store the flipped final prediction confidence\n",
        "            final_conf_ex = final_conf[selx].item() \n",
        "            # Save it all\n",
        "            adv_examples.append((\n",
        "                init_pred_ex,\n",
        "                final_pred_ex,\n",
        "                final_conf_ex,\n",
        "                flipped_ex,\n",
        "                original_ex))\n",
        "\n",
        "    # Calculate final accuracy for this epsilon\n",
        "    final_acc = correct / (float(len(test_loader) * test_loader.batch_size))\n",
        "    print(\"Epsilon: {} | Test Acc. = {}\".format(epsilon, final_acc))\n",
        "\n",
        "    # Return the accuracy and an adversarial example\n",
        "    return final_acc, adv_examples"
      ],
      "execution_count": 0,
      "outputs": []
    },
    {
      "cell_type": "code",
      "metadata": {
        "id": "xbm6WaaXG_C0",
        "colab_type": "code",
        "outputId": "96a7be47-7814-48b2-917a-4eb388db3185",
        "colab": {
          "base_uri": "https://localhost:8080/",
          "height": 68
        }
      },
      "source": [
        "# Not included, but epsilon = 0 is just test accuracy\n",
        "epsilons = [0.1, 0.4, 0.5]\n",
        "accuracies = []\n",
        "examples = None\n",
        "\n",
        "# Run test for each epsilon\n",
        "for eps in epsilons:\n",
        "    # Only save images for epsilon 0.2 (for report)\n",
        "    if eps == 0.4:\n",
        "      acc, ex = test(net, DEVICE, testloader, eps, save_images=True)\n",
        "      examples = ex\n",
        "    else:\n",
        "      acc, _ = test(net, DEVICE, testloader, eps, save_images=False)\n",
        "      \n",
        "    accuracies.append(acc)"
      ],
      "execution_count": 14,
      "outputs": [
        {
          "output_type": "stream",
          "text": [
            "Epsilon: 0.1 | Test Acc. = 0.609\n",
            "Epsilon: 0.4 | Test Acc. = 0.4484\n",
            "Epsilon: 0.5 | Test Acc. = 0.4331\n"
          ],
          "name": "stdout"
        }
      ]
    },
    {
      "cell_type": "markdown",
      "metadata": {
        "id": "oBLMIhYroZw_",
        "colab_type": "text"
      },
      "source": [
        "Images for reporting:"
      ]
    },
    {
      "cell_type": "code",
      "metadata": {
        "id": "8F06cFkVLR2O",
        "colab_type": "code",
        "outputId": "fbc79242-ba9b-498a-b763-34226490e3ca",
        "colab": {
          "base_uri": "https://localhost:8080/",
          "height": 298
        }
      },
      "source": [
        "orig_grid = np.empty([len(examples), 1, 28, 28])\n",
        "adv_grid = np.empty([len(examples), 1, 28, 28])\n",
        "\n",
        "orig_preds = [None] * len(examples)\n",
        "adver_preds = [None] * len(examples)\n",
        "adver_confs = [None] * len(examples)\n",
        "\n",
        "for i, ex in enumerate(examples):\n",
        "  orig_preds[i] = ex[0]\n",
        "  adver_preds[i] = ex[1]\n",
        "  adver_confs[i] = ex[2]\n",
        "  adv_grid[i, 0] = ex[3]\n",
        "  orig_grid[i, 0] = ex[4]\n",
        "\n",
        "orig_grid = torchvision.utils.make_grid(torch.from_numpy(orig_grid)).numpy()\n",
        "adv_grid = torchvision.utils.make_grid(torch.from_numpy(adv_grid)).numpy()\n",
        "  \n",
        "# Unnormalize for display purposes\n",
        "orig_grid = orig_grid / 2 + 0.5\n",
        "adv_grid = adv_grid / 2 + 0.5\n",
        "\n",
        "plt.figure()\n",
        "plt.imshow(np.transpose(orig_grid[0], (0, 1)), cmap=cm.viridis)\n",
        "plt.show()\n",
        "# plt.imsave(\"OriginalImages.png\",np.transpose(orig_grid[0], (0, 1)),  dpi=600)\n",
        "# files.download(\"OriginalImages.png\") \n",
        "\n",
        "plt.figure()\n",
        "plt.imshow(np.transpose(adv_grid[0], (0, 1)), cmap=cm.viridis)\n",
        "plt.show()\n",
        "# plt.imsave(\"AdverserialImages.png\", np.transpose(adv_grid[0], (0, 1)), dpi=600)\n",
        "# files.download(\"AdverserialImages.png\") \n",
        "  \n",
        "print(\"Initial predictions: {}\".format(orig_preds))\n",
        "print(\"Flipped (adverserial) predictions: {}\".format(adver_preds))\n",
        "print(\"Flipped (adverserial) confidences: {}\".format(adver_confs))"
      ],
      "execution_count": 15,
      "outputs": [
        {
          "output_type": "display_data",
          "data": {
            "image/png": "[encoded data removed]",
            "text/plain": [
              "<Figure size 432x288 with 1 Axes>"
            ]
          },
          "metadata": {
            "tags": []
          }
        },
        {
          "output_type": "display_data",
          "data": {
            "image/png": "[encoded data removed]",
            "text/plain": [
              "<Figure size 432x288 with 1 Axes>"
            ]
          },
          "metadata": {
            "tags": []
          }
        },
        {
          "output_type": "stream",
          "text": [
            "Initial predictions: [2, 1, 1, 0, 3]\n",
            "Flipped (adverserial) predictions: [8, 9, 2, 7, 0]\n",
            "Flipped (adverserial) confidences: [0.9703852534294128, 0.9479366540908813, 0.9993643164634705, 0.9800644516944885, 0.9954448938369751]\n"
          ],
          "name": "stdout"
        }
      ]
    },
    {
      "cell_type": "markdown",
      "metadata": {
        "id": "gMV2bZkRsew0",
        "colab_type": "text"
      },
      "source": [
        "**Part 4.2 - Generating Adverserial Images of a Specific Target Class**"
      ]
    },
    {
      "cell_type": "code",
      "metadata": {
        "id": "anh-HEwdty59",
        "colab_type": "code",
        "colab": {}
      },
      "source": [
        "MAX_ATTACKS_ON_BATCH = 5"
      ],
      "execution_count": 0,
      "outputs": []
    },
    {
      "cell_type": "code",
      "metadata": {
        "id": "MpgeM4efsgL1",
        "colab_type": "code",
        "colab": {}
      },
      "source": [
        "def test_adv(model, device, test_loader, epsilon, adv_target, save_images=False):\n",
        "\n",
        "    # Accuracy counter\n",
        "    correct = 0\n",
        "    adv_examples = []\n",
        "\n",
        "    # Loop over all examples in test set\n",
        "    for data, target in test_loader:\n",
        "\n",
        "        # Only for the forced prediction part\n",
        "        force_target = torch.ones(\n",
        "          target.shape,\n",
        "          dtype=torch.int64,\n",
        "          requires_grad=False) * adv_target\n",
        "      \n",
        "        # If doing task #2, specificy force_target as \"target\"\n",
        "        data, target = data.to(device), force_target.to(device)\n",
        "\n",
        "        feed_data = data\n",
        "        n_attacks = 0\n",
        "        \n",
        "        while n_attacks < MAX_ATTACKS_ON_BATCH:\n",
        "        \n",
        "          output = model(feed_data)                       \n",
        "          init_conf, init_pred = output.max(1)\n",
        "\n",
        "          # For forcing the adverserial, use the negative of the loss\n",
        "          loss = -1 * F.nll_loss(output, target) \n",
        "\n",
        "          model.zero_grad() # zero grads\n",
        "\n",
        "          loss.backward()\n",
        "\n",
        "          data_grad = feed_data.grad.data # get I_pet grad\n",
        "\n",
        "          perturbed_data = attack(feed_data, epsilon, data_grad) # attack\n",
        "\n",
        "          output = model(perturbed_data)\n",
        "          final_conf, final_pred = output.max(1)\n",
        "          \n",
        "          # STOPPING CRITERIA. \n",
        "          high_conf_flips = (\n",
        "              (torch.eq(init_pred, target) == 0) & # initial pred. wrong\n",
        "              (torch.eq(final_pred, target) == 1) & # final pred. right\n",
        "              (final_conf > 0.9)).nonzero() # confidence on final >90%\n",
        " \n",
        "          # The number of flips with high confidence (>90%)\n",
        "          n_hconf = high_conf_flips.view(-1).size(0)\n",
        "\n",
        "          if n_hconf > 0:\n",
        "            print(\"Hunted a rare 0.9 misclassification!\")\n",
        "            break\n",
        "          else:\n",
        "            feed_data = perturbed_data.detach()\n",
        "            n_attacks += 1\n",
        "        \n",
        "        # Compute the batch accuracy (where correctness is now target label)\n",
        "        # This will be LOW\n",
        "        correct_in_minibatch = torch.eq(final_pred, target).sum().item()\n",
        "        correct += correct_in_minibatch\n",
        "\n",
        "        # FANCY SAVING for report\n",
        "        if save_images:\n",
        "          if len(adv_examples) < 5:\n",
        "            \n",
        "            # Pick a sample from the batch meeting the stopping criteria above\n",
        "            flipped_preds = (\n",
        "                (torch.eq(init_pred, target) == 0) &\n",
        "                (torch.eq(final_pred, target) == 1) &\n",
        "                (final_conf > 0.9)).nonzero().view(-1)\n",
        "            \n",
        "            if flipped_preds.size(0) == 0:\n",
        "              continue\n",
        "            else:\n",
        "              print(\"Saving a rare 0.9 misclassification!\")\n",
        "            \n",
        "            # Multiple flips per-minibatch. Pick 1 randomly.\n",
        "            idx = torch.randint(0, flipped_preds.size(0), (1,))\n",
        "            selx = flipped_preds[idx]\n",
        "            \n",
        "            # Store the original (image.)\n",
        "            original_ex = data[selx].squeeze().detach().cpu().numpy()\n",
        "            # Store the flipped (adver.) image\n",
        "            flipped_ex = perturbed_data[selx].squeeze().detach().cpu().numpy()\n",
        "            # Store the flipped initial prediction\n",
        "            init_pred_ex = init_pred[selx].item()\n",
        "            # Store the flipped final prediction\n",
        "            final_pred_ex = final_pred[selx].item() \n",
        "            # Store the flipped final prediction confidence\n",
        "            final_conf_ex = final_conf[selx].item() \n",
        "            # Save it all\n",
        "            adv_examples.append((\n",
        "                init_pred_ex,\n",
        "                final_pred_ex,\n",
        "                final_conf_ex,\n",
        "                flipped_ex,\n",
        "                original_ex))\n",
        "\n",
        "    # Calculate final accuracy for this epsilon\n",
        "    final_acc = correct / (float(len(test_loader) * test_loader.batch_size))\n",
        "    print(\"Epsilon: {} | Test Acc. = {}\".format(epsilon, final_acc))\n",
        "\n",
        "    # Return the accuracy and an adversarial example\n",
        "    return final_acc, adv_examples"
      ],
      "execution_count": 0,
      "outputs": []
    },
    {
      "cell_type": "markdown",
      "metadata": {
        "id": "21jt17UUyVRn",
        "colab_type": "text"
      },
      "source": [
        "**And now we run our attack...**"
      ]
    },
    {
      "cell_type": "code",
      "metadata": {
        "id": "DnRPTGlss7dQ",
        "colab_type": "code",
        "outputId": "6e235fce-6a5c-46c2-d219-b9302eb36202",
        "colab": {
          "base_uri": "https://localhost:8080/",
          "height": 371
        }
      },
      "source": [
        "# Not included, but epsilon = 0 is just test accuracy\n",
        "ADV_TARGET = 5\n",
        "epsilons = [0.001]\n",
        "accuracies = []\n",
        "examples = None\n",
        "\n",
        "# Run test for each epsilon\n",
        "for eps in epsilons:\n",
        "    # Only save images for epsilon 0.4 (for report)\n",
        "    if eps == 0.001:\n",
        "      acc, ex = test_adv(net, DEVICE, testloader, eps, ADV_TARGET, save_images=True)\n",
        "      examples = ex\n",
        "    else:\n",
        "      acc, _ = test_adv(net, DEVICE, testloader, eps, ADV_TARGET, save_images=False)\n",
        "      \n",
        "    accuracies.append(acc)"
      ],
      "execution_count": 74,
      "outputs": [
        {
          "output_type": "error",
          "ename": "AttributeError",
          "evalue": "ignored",
          "traceback": [
            "\u001b[0;31m---------------------------------------------------------------------------\u001b[0m",
            "\u001b[0;31mAttributeError\u001b[0m                            Traceback (most recent call last)",
            "\u001b[0;32m<ipython-input-74-6790f896bb59>\u001b[0m in \u001b[0;36m<module>\u001b[0;34m()\u001b[0m\n\u001b[1;32m      8\u001b[0m     \u001b[0;31m# Only save images for epsilon 0.4 (for report)\u001b[0m\u001b[0;34m\u001b[0m\u001b[0;34m\u001b[0m\u001b[0;34m\u001b[0m\u001b[0m\n\u001b[1;32m      9\u001b[0m     \u001b[0;32mif\u001b[0m \u001b[0meps\u001b[0m \u001b[0;34m==\u001b[0m \u001b[0;36m0.001\u001b[0m\u001b[0;34m:\u001b[0m\u001b[0;34m\u001b[0m\u001b[0;34m\u001b[0m\u001b[0m\n\u001b[0;32m---> 10\u001b[0;31m       \u001b[0macc\u001b[0m\u001b[0;34m,\u001b[0m \u001b[0mex\u001b[0m \u001b[0;34m=\u001b[0m \u001b[0mtest_adv\u001b[0m\u001b[0;34m(\u001b[0m\u001b[0mnet\u001b[0m\u001b[0;34m,\u001b[0m \u001b[0mDEVICE\u001b[0m\u001b[0;34m,\u001b[0m \u001b[0mtestloader\u001b[0m\u001b[0;34m,\u001b[0m \u001b[0meps\u001b[0m\u001b[0;34m,\u001b[0m \u001b[0mADV_TARGET\u001b[0m\u001b[0;34m,\u001b[0m \u001b[0msave_images\u001b[0m\u001b[0;34m=\u001b[0m\u001b[0;32mTrue\u001b[0m\u001b[0;34m)\u001b[0m\u001b[0;34m\u001b[0m\u001b[0;34m\u001b[0m\u001b[0m\n\u001b[0m\u001b[1;32m     11\u001b[0m       \u001b[0mexamples\u001b[0m \u001b[0;34m=\u001b[0m \u001b[0mex\u001b[0m\u001b[0;34m\u001b[0m\u001b[0;34m\u001b[0m\u001b[0m\n\u001b[1;32m     12\u001b[0m     \u001b[0;32melse\u001b[0m\u001b[0;34m:\u001b[0m\u001b[0;34m\u001b[0m\u001b[0;34m\u001b[0m\u001b[0m\n",
            "\u001b[0;32m<ipython-input-73-2ddc5bccd427>\u001b[0m in \u001b[0;36mtest_adv\u001b[0;34m(model, device, test_loader, epsilon, adv_target, save_images)\u001b[0m\n\u001b[1;32m     32\u001b[0m           \u001b[0mloss\u001b[0m\u001b[0;34m.\u001b[0m\u001b[0mbackward\u001b[0m\u001b[0;34m(\u001b[0m\u001b[0;34m)\u001b[0m\u001b[0;34m\u001b[0m\u001b[0;34m\u001b[0m\u001b[0m\n\u001b[1;32m     33\u001b[0m \u001b[0;34m\u001b[0m\u001b[0m\n\u001b[0;32m---> 34\u001b[0;31m           \u001b[0mdata_grad\u001b[0m \u001b[0;34m=\u001b[0m \u001b[0mfeed_data\u001b[0m\u001b[0;34m.\u001b[0m\u001b[0mgrad\u001b[0m\u001b[0;34m.\u001b[0m\u001b[0mdata\u001b[0m \u001b[0;31m# get I_pet grad\u001b[0m\u001b[0;34m\u001b[0m\u001b[0;34m\u001b[0m\u001b[0m\n\u001b[0m\u001b[1;32m     35\u001b[0m \u001b[0;34m\u001b[0m\u001b[0m\n\u001b[1;32m     36\u001b[0m           \u001b[0mperturbed_data\u001b[0m \u001b[0;34m=\u001b[0m \u001b[0mattack\u001b[0m\u001b[0;34m(\u001b[0m\u001b[0mfeed_data\u001b[0m\u001b[0;34m,\u001b[0m \u001b[0mepsilon\u001b[0m\u001b[0;34m,\u001b[0m \u001b[0mdata_grad\u001b[0m\u001b[0;34m)\u001b[0m \u001b[0;31m# attack\u001b[0m\u001b[0;34m\u001b[0m\u001b[0;34m\u001b[0m\u001b[0m\n",
            "\u001b[0;31mAttributeError\u001b[0m: 'NoneType' object has no attribute 'data'"
          ]
        }
      ]
    },
    {
      "cell_type": "code",
      "metadata": {
        "id": "4W3kxwu3tVCq",
        "colab_type": "code",
        "outputId": "838d832d-0afb-4146-c5d0-edbbe3a5a269",
        "colab": {
          "base_uri": "https://localhost:8080/",
          "height": 85
        }
      },
      "source": [
        "orig_grid = np.empty([len(examples), 1, 28, 28])\n",
        "adv_grid = np.empty([len(examples), 1, 28, 28])\n",
        "\n",
        "orig_preds = [None] * len(examples)\n",
        "adver_preds = [None] * len(examples)\n",
        "adver_confs = [None] * len(examples)\n",
        "\n",
        "for i, ex in enumerate(examples):\n",
        "  orig_preds[i] = ex[0]\n",
        "  adver_preds[i] = ex[1]\n",
        "  adver_confs[i] = ex[2]\n",
        "  adv_grid[i, 0] = ex[3]\n",
        "  orig_grid[i, 0] = ex[4]\n",
        "\n",
        "orig_grid = torchvision.utils.make_grid(torch.from_numpy(orig_grid)).numpy()\n",
        "adv_grid = torchvision.utils.make_grid(torch.from_numpy(adv_grid)).numpy()\n",
        "  \n",
        "# # Unnormalize for display purposes\n",
        "orig_grid = orig_grid / 2 + 0.5\n",
        "adv_grid = adv_grid / 2 + 0.5\n",
        "\n",
        "plt.figure()\n",
        "plt.imshow(np.transpose(orig_grid[0], (0, 1)), cmap=cm.viridis)\n",
        "plt.show()\n",
        "\n",
        "plt.figure()\n",
        "plt.imshow(np.transpose(adv_grid[0], (0, 1)), cmap=cm.viridis)\n",
        "plt.show()\n",
        "\n",
        "print(\"Initial predictions: {}\".format(orig_preds))\n",
        "print(\"Flipped (adverserial) predictions: {}\".format(adver_preds))\n",
        "print(\"Flipped (adverserial) confidences: {}\".format(adver_confs))"
      ],
      "execution_count": 0,
      "outputs": [
        {
          "output_type": "stream",
          "text": [
            "Initial predictions: [6, 8, 6, 8, 6]\n",
            "Flipped (adverserial) predictions: [5, 5, 5, 5, 5]\n",
            "Flipped (adverserial) confidences: [0.9906963109970093, 0.9994816184043884, 0.9999741315841675, 0.996618390083313, 0.9990739822387695]\n",
            "These may look the same, but they aren't\n"
          ],
          "name": "stdout"
        }
      ]
    },
    {
      "cell_type": "markdown",
      "metadata": {
        "id": "s_U8mgPmb6--",
        "colab_type": "text"
      },
      "source": [
        " Part 4.3 - Retrain Network with Adverserial examples"
      ]
    },
    {
      "cell_type": "code",
      "metadata": {
        "id": "7SaJSBVctbtg",
        "colab_type": "code",
        "colab": {
          "base_uri": "https://localhost:8080/",
          "height": 34
        },
        "outputId": "54603a60-211f-4281-e828-caff996f2e22"
      },
      "source": [
        "# We want to collect 1000 adverserial examples as our training/evaluation batch\n",
        "_, examples = test(net, DEVICE, testloader, 0.3, save_images=True, nsave=1000)\n",
        "\n",
        "print(\"Collected {} adverserial examples\".format(len(examples)))"
      ],
      "execution_count": 18,
      "outputs": [
        {
          "output_type": "stream",
          "text": [
            "Epsilon: 0.3 | Test Acc. = 0.513\n"
          ],
          "name": "stdout"
        }
      ]
    },
    {
      "cell_type": "code",
      "metadata": {
        "id": "z56gn1aVdSeQ",
        "colab_type": "code",
        "colab": {
          "base_uri": "https://localhost:8080/",
          "height": 85
        },
        "outputId": "54e6384e-2d01-4957-81d2-aa256458388f"
      },
      "source": [
        "adv_ex = np.empty([len(examples), 1, 28, 28])\n",
        "orig_preds = np.empty(len(examples))\n",
        "\n",
        "\n",
        "for i, ex in enumerate(examples):\n",
        "  orig_preds[i] = ex[0]\n",
        "  adv_ex[i, 0] = ex[3]\n",
        "  \n",
        "y_train, y_test = np.split(orig_preds, [900])\n",
        "X_train, X_test = np.split(adv_ex, [900])\n",
        "batch_size = 50\n",
        "\n",
        "print(\"# Train images: {}\".format(len(train)))\n",
        "print(\"# Test images: {}\".format(len(test)))\n",
        "\n",
        "# Evaluate the network on the test set\n",
        "with torch.no_grad():\n",
        "  output = net(torch.from_numpy(X_test).float().cuda())\n",
        "  _, preds = output.max(1)\n",
        "  preds = preds.cpu().numpy()\n",
        "  old_acc = np.count_nonzero(np.equal(preds, y_test)) / len(orig_preds)\n",
        "  print(\"Initial evaluation accuracy on adverserial: {}\".format(acc))\n",
        "\n",
        "# Train in range \n",
        "for epoch in range(3):  # loop over the dataset multiple times\n",
        "\n",
        "  for i in range(len(X_train) // batch_size):\n",
        "      # get the inputs; data is a list of [inputs, labels]\n",
        "      \n",
        "      inputs = torch.from_numpy(X_train[i * batch_size: (i + 1) * batch_size]).float().cuda()\n",
        "      labels = torch.from_numpy(y_train[i * batch_size: (i + 1) * batch_size]).long().cuda()\n",
        "\n",
        "      # zero the parameter gradients\n",
        "      optimizer.zero_grad()\n",
        "\n",
        "      # forward + backward + optimize\n",
        "      outputs = net(inputs)\n",
        "      loss = criterion(outputs, labels)\n",
        "      loss.backward()\n",
        "      optimizer.step()\n",
        "\n",
        "\n",
        "# Re-evaluate the network on the test set\n",
        "with torch.no_grad():\n",
        "  output = net(torch.from_numpy(X_test).float().cuda())\n",
        "  _, preds = output.max(1)\n",
        "  preds = preds.cpu().numpy()\n",
        "  new_acc = np.count_nonzero(np.equal(preds, y_test)) / len(orig_preds)\n",
        "  print(\"Final evaluation accuracy on adverserial: {}\".format(acc))\n",
        "  \n",
        "print(\"Improvement on adverserial (in fancy %)\".format())"
      ],
      "execution_count": 47,
      "outputs": [
        {
          "output_type": "stream",
          "text": [
            "# Train images: 900\n",
            "# Test images: 100\n",
            "Initial evaluation accuracy on averserial: 0.068\n",
            "Final evaluation accuracy on averserial: 0.093\n"
          ],
          "name": "stdout"
        }
      ]
    }
  ]
}