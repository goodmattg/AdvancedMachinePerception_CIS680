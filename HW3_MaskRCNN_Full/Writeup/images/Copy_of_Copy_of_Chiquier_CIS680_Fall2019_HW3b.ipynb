{
  "nbformat": 4,
  "nbformat_minor": 0,
  "metadata": {
    "colab": {
      "name": "Copy of Copy of Chiquier_CIS680_Fall2019_HW3b.ipynb",
      "provenance": [],
      "collapsed_sections": [],
      "toc_visible": true
    },
    "kernelspec": {
      "name": "python3",
      "display_name": "Python 3"
    },
    "accelerator": "GPU"
  },
  "cells": [
    {
      "cell_type": "markdown",
      "metadata": {
        "id": "mHbNxdP6eLd2",
        "colab_type": "text"
      },
      "source": [
        "# Google Drive\n",
        "\n",
        "This first code block attaches your google drive and makes a folder structure. You only need to run this when a new VM is assigned to you. To get your code as a single python file go through the following menus File->'Download .py'.\n",
        "\n",
        "This also downloads the 5 files that contain the dataset and the checkpoint:\n",
        "\n",
        "\n",
        "https://drive.google.com/open?id=1uBWazGxSZgWs70JjSWBu-KZwy5sAcxLh\n",
        "\n",
        "https://drive.google.com/open?id=18Bh2qwVwdDwu7JK_plrnpAz9KjA5gWkv\n",
        "\n",
        "https://drive.google.com/open?id=1K4eZGmbW0peZvcSRpgJeCSuI6A6PWZYz\n",
        "\n",
        "https://drive.google.com/open?id=1xIzQrhWrJeid1J8YLFMt8yigFVDA-N8a\n",
        "\n",
        "https://drive.google.com/open?id=1fZY-tP2MuUYCA7Ur0C0zGTfEBs1XswGQ"
      ]
    },
    {
      "cell_type": "code",
      "metadata": {
        "id": "IDRvN60UA_xm",
        "colab_type": "code",
        "outputId": "12764c14-062a-4361-e901-e9d327089a4a",
        "colab": {
          "base_uri": "https://localhost:8080/",
          "height": 35
        }
      },
      "source": [
        "from google.colab import drive\n",
        "drive.mount('/content/drive')\n",
        "import os\n",
        "CUDA_LAUNCH_BLOCKING=1"
      ],
      "execution_count": 52,
      "outputs": [
        {
          "output_type": "stream",
          "text": [
            "Mounted at /content/drive\n"
          ],
          "name": "stdout"
        }
      ]
    },
    {
      "cell_type": "code",
      "metadata": {
        "id": "HsQ9gJ2e0DvA",
        "colab_type": "code",
        "colab": {}
      },
      "source": [
        "os.environ['CUDA_LAUNCH_BLOCKING'] = '1'"
      ],
      "execution_count": 0,
      "outputs": []
    },
    {
      "cell_type": "code",
      "metadata": {
        "id": "gLXu1yo14U1D",
        "colab_type": "code",
        "outputId": "d106cdc5-c793-47a4-bad6-35a422691661",
        "colab": {
          "base_uri": "https://localhost:8080/",
          "height": 55
        }
      },
      "source": [
        "from google.colab import drive\n",
        "drive.mount('/content/drive')\n",
        "import h5py \n",
        "from torchsummary import summary\n",
        "import torch\n",
        "import cv2\n",
        "import torch.nn.functional as F\n",
        "import torch.nn as nn\n",
        "import numpy as np\n",
        "import matplotlib.pyplot as plt\n",
        "from matplotlib.patches import Rectangle\n",
        "from google.colab import drive\n",
        "from torch.utils.data import Dataset, DataLoader"
      ],
      "execution_count": 54,
      "outputs": [
        {
          "output_type": "stream",
          "text": [
            "Drive already mounted at /content/drive; to attempt to forcibly remount, call drive.mount(\"/content/drive\", force_remount=True).\n"
          ],
          "name": "stdout"
        }
      ]
    },
    {
      "cell_type": "code",
      "metadata": {
        "id": "GZjSXhAex5IN",
        "colab_type": "code",
        "outputId": "c242249f-b329-4b6d-9669-d1743efb0bae",
        "colab": {
          "base_uri": "https://localhost:8080/",
          "height": 141
        }
      },
      "source": [
        "import os\n",
        "from google.colab import drive\n",
        "\n",
        "# Mount google drive\n",
        "DRIVE_MOUNT='/content/gdrive'\n",
        "drive.mount(DRIVE_MOUNT)\n",
        "\n",
        "\n",
        "# create folder to write data to\n",
        "CIS680_FOLDER=os.path.join(DRIVE_MOUNT, 'My Drive', 'CIS680_2019')\n",
        "HOMEWORK_FOLDER=os.path.join(CIS680_FOLDER, 'HW3b')\n",
        "os.makedirs(HOMEWORK_FOLDER, exist_ok=True)\n",
        "print(HOMEWORK_FOLDER)\n",
        "\n",
        "# bootstrap environment into place\n",
        "from google.colab import auth\n",
        "auth.authenticate_user()\n",
        "\n",
        "from googleapiclient.discovery import build\n",
        "drive_service = build('drive', 'v3')\n",
        "\n",
        "import io\n",
        "import os\n",
        "from googleapiclient.http import MediaIoBaseDownload\n",
        "\n",
        "def download_file(fn, file_id):\n",
        "    request = drive_service.files().get_media(fileId=file_id)\n",
        "    downloaded = io.BytesIO()\n",
        "    downloader = MediaIoBaseDownload(downloaded, request)\n",
        "    done = False\n",
        "    while done is False:\n",
        "        # _ is a placeholder for a progress object that we ignore.\n",
        "        # (Our file is small, so we skip reporting progress.)\n",
        "        _, done = downloader.next_chunk()\n",
        "    \n",
        "    downloaded.seek(0)\n",
        "\n",
        "    folder = fn.split('/')\n",
        "    if len(folder) > 1:\n",
        "        os.makedirs(folder[0], exist_ok=True)\n",
        "\n",
        "    with open(fn, 'wb') as f:\n",
        "        f.write(downloaded.read())\n",
        "\n",
        "id_to_fn = {\n",
        "'1uBWazGxSZgWs70JjSWBu-KZwy5sAcxLh': 'hw3_mycocodata_bboxes_comp_zlib.npy',\n",
        "'18Bh2qwVwdDwu7JK_plrnpAz9KjA5gWkv': 'hw3_mycocodata_img_comp_zlib.h5',\n",
        "'1K4eZGmbW0peZvcSRpgJeCSuI6A6PWZYz': 'hw3_mycocodata_labels_comp_zlib.npy',\n",
        "'1xIzQrhWrJeid1J8YLFMt8yigFVDA-N8a': 'hw3_mycocodata_mask_comp_zlib.h5',\n",
        "'1fZY-tP2MuUYCA7Ur0C0zGTfEBs1XswGQ': 'checkpoint680.pth',\n",
        "}\n",
        "\n",
        "# download all files into the vm\n",
        "for fid, fn in id_to_fn.items():\n",
        "    print(\"Downloading %s from %s\" % (fn, fid))\n",
        "    download_file(fn, fid)"
      ],
      "execution_count": 55,
      "outputs": [
        {
          "output_type": "stream",
          "text": [
            "Mounted at /content/gdrive\n",
            "/content/gdrive/My Drive/CIS680_2019/HW3b\n",
            "Downloading hw3_mycocodata_bboxes_comp_zlib.npy from 1uBWazGxSZgWs70JjSWBu-KZwy5sAcxLh\n",
            "Downloading hw3_mycocodata_img_comp_zlib.h5 from 18Bh2qwVwdDwu7JK_plrnpAz9KjA5gWkv\n",
            "Downloading hw3_mycocodata_labels_comp_zlib.npy from 1K4eZGmbW0peZvcSRpgJeCSuI6A6PWZYz\n",
            "Downloading hw3_mycocodata_mask_comp_zlib.h5 from 1xIzQrhWrJeid1J8YLFMt8yigFVDA-N8a\n",
            "Downloading checkpoint680.pth from 1fZY-tP2MuUYCA7Ur0C0zGTfEBs1XswGQ\n"
          ],
          "name": "stdout"
        }
      ]
    },
    {
      "cell_type": "code",
      "metadata": {
        "id": "nGxbcafc781O",
        "colab_type": "code",
        "colab": {}
      },
      "source": [
        ""
      ],
      "execution_count": 0,
      "outputs": []
    },
    {
      "cell_type": "markdown",
      "metadata": {
        "id": "81-tudyb3wR0",
        "colab_type": "text"
      },
      "source": [
        "# Functions\n"
      ]
    },
    {
      "cell_type": "code",
      "metadata": {
        "id": "nUf8B5No31HX",
        "colab_type": "code",
        "colab": {}
      },
      "source": [
        "def do_for(fn, mat):\n",
        "    return np.apply_along_axis(fn, 1, mat)\n",
        "\n",
        "def rev(tup):\n",
        "    \"\"\"Reverses a tuple\"\"\"\n",
        "    return tup[::-1]  \n",
        "\n",
        "\n",
        "def t_param_to_topleft_topright(t_x, t_y, t_w, t_h,x,y,x2,y2):\n",
        "  x_a, y_a = compute_center([x,y,x2-x, y2-y])\n",
        "  xval = t_x*(x2-x) + x_a\n",
        "  yval = t_y*(y2-y) + y_a\n",
        "  wval = np.exp(t_w)*(x2-x)\n",
        "  hval = np.exp(t_h)*(y2-y)\n",
        "  transformed = [xval - wval/2,yval - hval/2,xval + wval/2,yval + hval/2]\n",
        "  return transformed\n",
        "\n",
        "def display_list_of_boxes(image, list_of_boxes, wh = True):\n",
        "  \n",
        "  plt.imshow(image)\n",
        "  ax = plt.gca()\n",
        "\n",
        "  for i in range(len(list_of_boxes)):\n",
        "         \n",
        "      box_values = list_of_boxes[i]\n",
        "\n",
        "      if not wh:\n",
        "        x, y, x2, y2 = box_values\n",
        "        w = x2-x\n",
        "        h = y2-y\n",
        "      else:\n",
        "        x, y, w, h = box_values\n",
        "        \n",
        "      rect = Rectangle((x, y), w, h, fill=False, linewidth=3)\n",
        "\n",
        "      ax.add_patch(rect)\n",
        "\n",
        "plt.show()\n",
        "\n",
        "\"\"\"Given top left and bottom right corners, returns the center\"\"\"\n",
        "def compute_center(vals):\n",
        "  x1,y1,w,h = vals\n",
        "  middle_x = x1 + (w)/2\n",
        "  middle_y = y1 + (h)/2\n",
        "  return middle_x,middle_y\n",
        "\n",
        "def convert_image(img):\n",
        "  a = _resize(img, (1066,800))\n",
        "  img = pad_along_axis(a,11)\n",
        "  mean=[0.485, 0.456, 0.406]     \n",
        "  std=[0.229, 0.224, 0.225]\n",
        "  img[0,:,:] = ((img[0,:,:]/255)-mean[0])/(std[0])\n",
        "  img[1,:,:] = ((img[1,:,:]/255)-mean[1])/(std[1])\n",
        "  img[2,:,:] = ((img[2,:,:]/255)-mean[2])/(std[2])\n",
        "  return img\n",
        "\n",
        "def convert_bboxes(bboxes):\n",
        "  temp = []\n",
        "  for i in range(bboxes.shape[0]):\n",
        "    x1,y1,x2,y2 = bboxes[i] \n",
        "    w_ratio = 800/300\n",
        "    h_ratio = 1088/400\n",
        "    newbox = int(w_ratio*x1)+11, int(h_ratio*y1), int(w_ratio*x2)+11, int(h_ratio*y2)\n",
        "    temp.append(newbox)\n",
        "  return np.array(temp)\n",
        "\n",
        "def convert_masks(masks):\n",
        "  total = []\n",
        "  for mask in masks:\n",
        "    new = _resize_mask(mask, (1066,800))\n",
        "    padded = pad_along_axis(new,11)\n",
        "    total.append(padded)\n",
        "  return np.array(total)\n",
        "  \n",
        "\n",
        "def _resize(img, output_shape):\n",
        "    \"\"\"Resize a channels-first image with bilinear interpolation to output shape\n",
        "\n",
        "    Inputs:\n",
        "        img: a channels first image (CH, H, W)\n",
        "        output_shape: tuple(W, H)\n",
        "\n",
        "    Outputs: Resized channels-first image with output shape\n",
        "    \"\"\"\n",
        "    now = cv2.resize(\n",
        "        img.transpose((1,2,0)).astype(np.uint8),\n",
        "        output_shape,\n",
        "        interpolation=cv2.INTER_LINEAR).transpose((2,0,1))\n",
        "    return now\n",
        "\n",
        "def _resize_mask(mask, output_shape):\n",
        "  \n",
        "    if (len(mask.shape) == 3):\n",
        "        return cv2.resize(\n",
        "            mask.astype(np.uint8),\n",
        "            output_shape,\n",
        "            interpolation=cv2.INTER_NEAREST)     \n",
        "    else:\n",
        "        return cv2.resize(\n",
        "            mask.astype(np.uint8),\n",
        "            output_shape,\n",
        "            interpolation=cv2.INTER_NEAREST)                \n",
        "\n",
        "COLORS = {\n",
        "    1: [255, 0, 0], # Vehicle\n",
        "    2: [0, 0, 255], # Animals\n",
        "    3: [0, 255, 0] # People\n",
        "}\n",
        "\n",
        "def show(img):\n",
        "    \"\"\"Show a channels-first image\"\"\"\n",
        "    plt.figure()\n",
        "    plt.imshow(img.transpose(1,2,0))\n",
        "\n",
        "def show_img(images, bboxes, labels, only_one):\n",
        "    show(_draw_bounding_boxes(\n",
        "            images, \n",
        "            bboxes,\n",
        "            labels))\n",
        "\n",
        "def show_mask(masks, image, labels, only_one):\n",
        "    # We need to use mask indices\n",
        "    if len(masks.shape) == 2:\n",
        "        masks = np.expand_dims(masks, 0)\n",
        "\n",
        "    show(_draw_mask(\n",
        "            image, \n",
        "            masks,\n",
        "            labels, only_one))\n",
        "\n",
        "def show_both(image, bboxes, masks, labels, only_one):\n",
        "    show_img(image, bboxes, labels, only_one)\n",
        "    show_mask(masks, image, labels, only_one)\n",
        "\n",
        "def _draw_bounding_boxes(image, bboxes, labels, only_one = True):\n",
        "    \"\"\"Draw bounding boxes onto channels-first image. Returns copy of image.\"\"\"\n",
        "    ret_copy = image.transpose((1,2,0)).copy()\n",
        "    \n",
        "    if only_one: \n",
        "      c1 = tuple(bboxes[:2].astype(int))\n",
        "      c2 = tuple(bboxes[2:].astype(int))\n",
        "      cv2.rectangle(ret_copy, c1, c2, COLORS[labels], 4)\n",
        "    else:\n",
        "      for idx in range(labels.shape[0]):\n",
        "        c1 = tuple(bboxes[idx, :2].astype(int))\n",
        "        c2 = tuple(bboxes[idx, 2:].astype(int))\n",
        "        cv2.rectangle(ret_copy, c1, c2, COLORS[labels[idx]], 4)\n",
        "\n",
        "    return ret_copy.transpose((2,0,1))\n",
        "  \n",
        "def _draw_mask(image, masks, labels, only_one = True):\n",
        "\n",
        "    ret_copy = image.copy()\n",
        "    \n",
        "    if only_one:\n",
        "      color = COLORS[labels]\n",
        "      mask = (masks > 0)\n",
        "      ret_copy = ret_copy.transpose((1,2,0))\n",
        "      ret_copy[mask[0],:] = np.array(color)\n",
        "      ret_copy = ret_copy.transpose((2,0,1))\n",
        "\n",
        "    else:\n",
        "\n",
        "      for idx in range(labels.shape[0]):\n",
        "          color = COLORS[labels[idx]]\n",
        "          mask = (masks[idx] > 0)\n",
        "          ret_copy = ret_copy.transpose((1,2,0))\n",
        "          ret_copy[mask,:] = np.array(color)\n",
        "          ret_copy = ret_copy.transpose((2,0,1))\n",
        "\n",
        "    return ret_copy"
      ],
      "execution_count": 0,
      "outputs": []
    },
    {
      "cell_type": "code",
      "metadata": {
        "id": "wZMpBdgRbnIP",
        "colab_type": "code",
        "colab": {}
      },
      "source": [
        "def pad_along_axis(array, target_length, axis=1):\n",
        "    if array.shape[0] == 3:\n",
        "      new = np.array(np.zeros((3,800,1088)))\n",
        "    else:\n",
        "      new = np.array(np.zeros((800,1088)))\n",
        "\n",
        "    if array.shape[0] == 3:\n",
        "      for i in range(array.shape[0]):\n",
        "        new[i,:,11:1077] = array[i]\n",
        "        new[i,:,0:11]=0\n",
        "        new[i,:,1077:1088] = 0\n",
        "    else:\n",
        "      new[:,11:1077] = array\n",
        "      new[:,0:11]=0\n",
        "      new[:,1077:1088] = 0\n",
        "    return new"
      ],
      "execution_count": 0,
      "outputs": []
    },
    {
      "cell_type": "markdown",
      "metadata": {
        "id": "x_dvuxbV9mjl",
        "colab_type": "text"
      },
      "source": [
        "# Load Checkpoint\n",
        "Here is some sample code to load the pretrained model we are providing"
      ]
    },
    {
      "cell_type": "code",
      "metadata": {
        "id": "feLUg2ts9tGI",
        "colab_type": "code",
        "colab": {}
      },
      "source": [
        "import torchvision\n",
        "import torch\n",
        "\n",
        "def pretrained_model_680(checkpoint_file):\n",
        "\n",
        "    import torchvision\n",
        "    model = torchvision.models.detection.maskrcnn_resnet50_fpn(pretrained=False)\n",
        "    \n",
        "    model.eval()\n",
        "    \n",
        "    device = torch.device('cuda') if torch.cuda.is_available() else torch.device('cpu')\n",
        "    model.to(device)\n",
        "    \n",
        "    backbone = model.backbone\n",
        "    rpn = model.rpn\n",
        "    \n",
        "    checkpoint = torch.load(checkpoint_file)\n",
        "    \n",
        "    backbone.load_state_dict(checkpoint['backbone'])\n",
        "    rpn.load_state_dict(checkpoint['rpn'])\n",
        "    \n",
        "    return backbone, rpn\n",
        "\n",
        "\n",
        "backbone,rpn = pretrained_model_680('checkpoint680.pth')\n",
        "\n",
        "\n",
        "E = torch.ones([2,3,800,1088], device='cuda')\n",
        "#backout = backbone(E)\n",
        "#theinput = backout[0]\n",
        "\n",
        "#from torchvision.models.detection.image_list import ImageList \n",
        "#im_lis = ImageList(E, [(800,1088),(800,1088)])\n",
        "\n",
        "#rpn.eval()\n",
        "#rpnout = rpn(im_lis,backout)\n",
        "#print(rpnout[0][0].shape)\n",
        "#test = torchvision.ops.roi_align(theinput, rpnout[0][0], (7,7), spatial_scale=1.0, sampling_ratio=-1)\n",
        "\n",
        "\n",
        "#print(test.shape)"
      ],
      "execution_count": 0,
      "outputs": []
    },
    {
      "cell_type": "markdown",
      "metadata": {
        "id": "pw-yUtFqiNFR",
        "colab_type": "text"
      },
      "source": [
        "# PyTorch Dataset\n",
        "\n",
        "Copy your HW3a dataset code"
      ]
    },
    {
      "cell_type": "code",
      "metadata": {
        "id": "hguIwry8iH9S",
        "colab_type": "code",
        "colab": {}
      },
      "source": [
        "from torchvision import transforms\n",
        "class HW3Dataset(torch.utils.data.Dataset):\n",
        "  def __init__(self):\n",
        "    \n",
        "    bbox_path = 'hw3_mycocodata_bboxes_comp_zlib.npy'\n",
        "    \n",
        "    images_path = 'hw3_mycocodata_img_comp_zlib.h5'\n",
        "    \n",
        "    labels_path = 'hw3_mycocodata_labels_comp_zlib.npy'\n",
        "    \n",
        "    masks_path = 'hw3_mycocodata_mask_comp_zlib.h5'\n",
        "    \n",
        "    self.bboxes = np.load(bbox_path, allow_pickle=True, encoding='bytes')\n",
        "    self.labels = np.load(labels_path, allow_pickle=True, encoding='bytes')\n",
        "    \n",
        "    self.masks = h5py.File(masks_path, 'r')['data']\n",
        "    self.images = h5py.File(images_path, 'r')['data']\n",
        "    self.mask_indices = np.cumsum([len(l) for l in self.labels])\n",
        "\n",
        "\n",
        "  def __len__(self):\n",
        "    return self.images.shape[0]\n",
        "   \n",
        "  def __getitem__(self, idx):\n",
        "    if torch.is_tensor(idx):\n",
        "      idx = idx.tolist()\n",
        "    if idx == 0:\n",
        "      masks = self.masks[:self.mask_indices[0]]\n",
        "    else:\n",
        "      masks = self.masks[self.mask_indices[idx-1]:self.mask_indices[idx]]\n",
        "\n",
        "    batch = {\n",
        "        'index': idx,\n",
        "        'images': self.images[idx].astype('float'),\n",
        "        'labels': self.labels[idx].astype('float'),\n",
        "        'bboxes': self.bboxes[idx].astype('float'),\n",
        "        'masks': convert_masks(masks)\n",
        "    }\n",
        "    \n",
        "    return batch"
      ],
      "execution_count": 0,
      "outputs": []
    },
    {
      "cell_type": "code",
      "metadata": {
        "id": "xt4jGNnFB1w8",
        "colab_type": "code",
        "colab": {}
      },
      "source": [
        "from torch.nn.utils.rnn import pad_packed_sequence, pack_sequence\n",
        "\n",
        "def my_collate(batch):\n",
        "  \n",
        "    images = [torch.from_numpy(convert_image(item['images'])) for item in batch] #.type(torch.FloatTensor)\n",
        "    labels = [torch.from_numpy(item['labels']) for item in batch]\n",
        "    bboxes = [torch.from_numpy(convert_bboxes(np.asarray(item['bboxes']))).type(torch.FloatTensor) for item in batch]\n",
        "    masks = [torch.from_numpy(item['masks']).type(torch.FloatTensor) for item in batch]\n",
        "\n",
        "    images = torch.stack(images)\n",
        "\n",
        "    bboxes = pack_sequence(bboxes, enforce_sorted=False)\n",
        "    padded_seq_bboxes, length = pad_packed_sequence(bboxes, batch_first = True, padding_value = -1)\n",
        "    \n",
        "    labels = pack_sequence(labels, enforce_sorted=False)\n",
        "    \n",
        "    padded_seq_labels, length = pad_packed_sequence(labels, batch_first = True, padding_value = -1)\n",
        "\n",
        "    masks = pack_sequence(masks, enforce_sorted=False)\n",
        "    padded_seq_masks, length = pad_packed_sequence(masks, batch_first = True, padding_value = -1) \n",
        "        \n",
        "    return images,padded_seq_masks, padded_seq_labels, padded_seq_bboxes"
      ],
      "execution_count": 0,
      "outputs": []
    },
    {
      "cell_type": "code",
      "metadata": {
        "id": "ISxvZY4QpJKR",
        "colab_type": "code",
        "outputId": "34063b6a-18fa-4354-f4cb-67effc76ff38",
        "colab": {
          "base_uri": "https://localhost:8080/",
          "height": 35
        }
      },
      "source": [
        "use_gpu = torch.cuda.is_available()\n",
        "print(use_gpu)\n",
        "cuda = torch.device('cuda')\n",
        "y = torch.tensor([1., 2.], device='cuda')\n",
        "import pdb\n",
        "\n",
        "CUDA_LAUNCH_BLOCKING=1"
      ],
      "execution_count": 61,
      "outputs": [
        {
          "output_type": "stream",
          "text": [
            "True\n"
          ],
          "name": "stdout"
        }
      ]
    },
    {
      "cell_type": "code",
      "metadata": {
        "id": "DnJMcTOe1yHP",
        "colab_type": "code",
        "colab": {}
      },
      "source": [
        "dataset = HW3Dataset()\n"
      ],
      "execution_count": 0,
      "outputs": []
    },
    {
      "cell_type": "code",
      "metadata": {
        "id": "DQXmTKiu4UbU",
        "colab_type": "code",
        "colab": {}
      },
      "source": [
        "def bbox_iou(box1, box2):\n",
        "\n",
        "  b1_x1, b1_y1, b1_w, b1_h = box1[0], box1[1], box1[2], box1[3]\n",
        "  b2_x1, b2_y1, b2_w, b2_h = box2[0], box2[1], box2[2], box2[3]\n",
        "  \n",
        "\n",
        "  b1_x2, b1_y2 = b1_x1 + b1_w,  b1_y1 + b1_h\n",
        "  b2_x2, b2_y2 = b2_x1 + b2_w,  b2_y1 + b2_h\n",
        "\n",
        "  intersectionx1 =  torch.max(torch.tensor(b1_x1), torch.tensor(b2_x1))\n",
        "  intersectiony1 =  torch.max(torch.tensor(b1_y1), torch.tensor(b2_y1))\n",
        "  intersectionx2 =  torch.min(torch.tensor(b1_x2), torch.tensor(b2_x2))\n",
        "  intersectiony2 =  torch.min(torch.tensor(b1_y2), torch.tensor(b2_y2))\n",
        "\n",
        "  inter_area = torch.clamp(intersectionx2 - intersectionx1 + 1, min=0) * torch.clamp( intersectiony2 -  intersectiony1 + 1, min=0)\n",
        "\n",
        "  b1_area = (b1_x2 - b1_x1 + 1)*(b1_y2 - b1_y1 + 1)\n",
        "  b2_area = (b2_x2 - b2_x1 + 1)*(b2_y2 - b2_y1 + 1)\n",
        "\n",
        "  iou = inter_area.type(torch.FloatTensor) / (b1_area + b2_area - inter_area).type(torch.FloatTensor)\n",
        "\n",
        "  return iou"
      ],
      "execution_count": 0,
      "outputs": []
    },
    {
      "cell_type": "code",
      "metadata": {
        "id": "kwBip7El9vIr",
        "colab_type": "code",
        "colab": {}
      },
      "source": [
        "def ratio_iou(x1, y1, x2, y2, x1_a, y1_a, x2_a, y2_a, eps=1e-5):\n",
        "    xi = torch.max(x1, x1_a)                                 # Intersection\n",
        "    yi = torch.max(y1, y1_a)\n",
        "    wi = torch.clamp(torch.min(x1+(x2-x1), x1_a+(x2_a-x1_a))-xi, min=0)\n",
        "    hi = torch.clamp(torch.min(y1+(y2-y1), y1_a+(y2_a-y1_a))-yi, min=0)\n",
        "    area_i = wi * hi                                       # Area Intersection\n",
        "    area_u = (x2-x1) * (y2-y1) + (x2_a-x1_a) * (y2_a-y1_a) - wi * hi                   # Area Union\n",
        "    return area_i / torch.clamp(area_u, min=eps)"
      ],
      "execution_count": 0,
      "outputs": []
    },
    {
      "cell_type": "code",
      "metadata": {
        "id": "aqnGhMv1EBA6",
        "colab_type": "code",
        "colab": {}
      },
      "source": [
        "class MLP(nn.Module):\n",
        "    def __init__(self):\n",
        "        super(MLP, self).__init__()\n",
        "        self.fc1 = nn.Linear(12544,6000)\n",
        "        self.fc2 = nn.Linear(6000,1024)\n",
        "        self.fc3 = nn.Linear(1024,4)\n",
        "        self.fc4 = nn.Linear(1024,16)\n",
        "    def forward(self, x):\n",
        "        x = F.relu(self.fc1(x))\n",
        "        x = F.relu(self.fc2(x))\n",
        "        classification = F.softmax(self.fc3(x))\n",
        "        regression = self.fc4(x)\n",
        "        return classification,regression"
      ],
      "execution_count": 0,
      "outputs": []
    },
    {
      "cell_type": "code",
      "metadata": {
        "id": "Q3NPEap2M7qQ",
        "colab_type": "code",
        "colab": {}
      },
      "source": [
        "from timeit import default_timer as timer"
      ],
      "execution_count": 0,
      "outputs": []
    },
    {
      "cell_type": "code",
      "metadata": {
        "id": "WC-dqeHrkPnd",
        "colab_type": "code",
        "colab": {}
      },
      "source": [
        "net = MLP()\n",
        "net = net.cuda()\n",
        "model_path = os.path.join(HOMEWORK_FOLDER, 'model_maskrcnn_full11')\n",
        "info_path = os.path.join(HOMEWORK_FOLDER, 'training_info_maskrcnn_full111')\n",
        "\n",
        "if os.path.isfile(model_path):\n",
        "  #info = torch.load(info_path)\n",
        "  a = torch.load(model_path)\n",
        "  #net.load_state_dict(torch.load(model_path))\n",
        "  #epoch_curr = info['epoch'][-1] + 1"
      ],
      "execution_count": 0,
      "outputs": []
    },
    {
      "cell_type": "code",
      "metadata": {
        "id": "emZn2H-nWck4",
        "colab_type": "code",
        "colab": {}
      },
      "source": [
        "def get_t_16():\n",
        "  list_of_gt_classes.extend([gt_label[i][g] for j in range(paramed[0].shape[0])])\n",
        "  for j in t_x.shape[0]:\n",
        "    long_tensor = torch.zeros(16)\n",
        "    long_tenor[gt_label[i][g]*4:gt_label[i][g]*4+4] = torch.tensor([t_x[j], t_y[j], t_w[j], t_h[j]])\n"
      ],
      "execution_count": 0,
      "outputs": []
    },
    {
      "cell_type": "code",
      "metadata": {
        "id": "AUIs0_B3aF2l",
        "colab_type": "code",
        "colab": {}
      },
      "source": [
        "full_dataset = HW3Dataset()\n",
        "train_size = int(0.8 * len(full_dataset))\n",
        "test_size = len(full_dataset) - train_size\n",
        "train_dataset, test_dataset = torch.utils.data.random_split(full_dataset, [train_size, test_size])"
      ],
      "execution_count": 0,
      "outputs": []
    },
    {
      "cell_type": "code",
      "metadata": {
        "id": "TN6ENYiCCY5c",
        "colab_type": "code",
        "outputId": "29b4d921-9238-4dc3-ae3a-bb9d93055d11",
        "colab": {
          "base_uri": "https://localhost:8080/",
          "height": 475
        }
      },
      "source": [
        "from torchvision.models.detection.image_list import ImageList \n",
        "\n",
        "model_path = os.path.join(HOMEWORK_FOLDER, 'model_final2')\n",
        "info_path = os.path.join(HOMEWORK_FOLDER, 'info_final2')\n",
        "\n",
        "train_dataloader = DataLoader(train_dataset, batch_size=8, shuffle=False, collate_fn = my_collate)\n",
        "net = MLP()\n",
        "net = net.cuda()\n",
        "criterion = torch.nn.CrossEntropyLoss()\n",
        "criterion2 = torch.nn.L1Loss()\n",
        "learning_rate = (10e-3)/8\n",
        "optimizer = torch.optim.Adam(net.parameters(), lr=learning_rate)\n",
        "num_epochs = 5\n",
        "\n",
        "info = {\n",
        "      'epoch': [],\n",
        "      'total_loss': [],\n",
        "      'classification_loss': [],\n",
        "      'regression_loss': [],\n",
        "      'running_classification_loss': [],\n",
        "      'running_regression_loss': [],\n",
        "      'loss': [],\n",
        "      'learning_rate': [],\n",
        "  }\n",
        "\n",
        "if os.path.isfile(model_path):\n",
        "  print(\"Yes\")\n",
        "  info = torch.load(info_path)\n",
        "  net.load_state_dict(torch.load(model_path))\n",
        "  epoch_curr = info['epoch'][-1] + 1\n",
        "  \n",
        "else:\n",
        "  epoch_curr = 0\n",
        "\n",
        "for epoch in epoch_curr, num_epochs:\n",
        "  print(epoch, \"epoch\")\n",
        "  running_loss = 0\n",
        "  running_classification = 0 \n",
        "  running_regression = 0\n",
        "  for elem_index, elem in enumerate(train_dataloader):\n",
        "    start = timer()\n",
        "    all_images_list_of_featuremaps = []\n",
        "    all_images_list_of_boundingboxes = []\n",
        "    all_images_list_of_boundingboxes_background = []\n",
        "    all_images_list_of_gt_masks = []\n",
        "    all_images_list_of_t_params = []\n",
        "    all_images_list_of_gt_classes = []\n",
        "\n",
        "    all_images_list_of_gt_boundingboxes = []\n",
        "\n",
        "    #print(timer()-start)\n",
        "    if torch.cuda.is_available():\n",
        "      x = elem[0].cuda()\n",
        "      gt_mask = elem[1]\n",
        "      gt_label = elem[2]\n",
        "      gt_boxes = elem[3].cuda()\n",
        "      \n",
        "\n",
        "      backout = backbone(x.float())\n",
        "      im_lis = ImageList(x, [(800,1088)]*elem[0].shape[0])\n",
        "      rpn.eval()\n",
        "      rpnout = rpn(im_lis,backout)\n",
        "\n",
        "      for param in backbone.parameters():\n",
        "        param.requires_grad=False\n",
        "\n",
        "      for param in rpn.parameters():\n",
        "        param.requires_Grad=False\n",
        "\n",
        "      \"\"\" i is responsible for which image of the batch\"\"\"\n",
        "      for i in range(len(rpnout[0])):\n",
        "\n",
        "        list_of_boundingboxes = []\n",
        "        list_of_gt_masks = []\n",
        "        list_of_gt_boundingboxes = []\n",
        "        list_of_gt_classes = []\n",
        "        list_of_t_params = []\n",
        "\n",
        "        list_of_boundingboxes_background = []\n",
        "        list_of_gt_masks_background = []\n",
        "        list_of_gt_boundingboxes_background = []\n",
        "\n",
        "        current_batch = rpnout[0][i]\n",
        "\n",
        "        x1 = current_batch[:,0]\n",
        "        y1 = current_batch[:,1]\n",
        "        x2 = current_batch[:,2]\n",
        "        y2 = current_batch[:,3]\n",
        "        max_iou = 0\n",
        "        gbox = None\n",
        "        bestbox = None\n",
        "        bestbox_mask = None\n",
        "        bestbox_label = None\n",
        "\n",
        "        accumulated_tests = [] \n",
        "        indexes_of_positives = []\n",
        "\n",
        "        #g iterates through all the ground truth boxes\n",
        "        for g in range(elem[3][i].shape[0]):\n",
        "          if gt_label[i][g] != -1:\n",
        "            test = ratio_iou(gt_boxes[i][g][0], gt_boxes[i][g][1], gt_boxes[i][g][2], gt_boxes[i][g][3], x1,y1,x2,y2)\n",
        "            accumulated_tests.append(test)\n",
        "\n",
        "            vals_x1 = x1[test>0.5].data.cpu()\n",
        "            vals_y1 = y1[test>0.5].data.cpu()\n",
        "            vals_x2 = x2[test>0.5].data.cpu()\n",
        "            vals_y2 = y2[test>0.5].data.cpu()\n",
        "\n",
        "            allvals = torch.stack([vals_x1,vals_y1,vals_x2,vals_y2])\n",
        "            allvals_predicted = list(torch.unbind(allvals,axis=1))\n",
        "            \n",
        "            middle_x, middle_y = compute_center([vals_x1, vals_y1, vals_x2-vals_x1, vals_y2-vals_y1])\n",
        "\n",
        "            w = gt_boxes[i][g][2]-gt_boxes[i][g][0]\n",
        "            h = gt_boxes[i][g][3]-gt_boxes[i][g][1]\n",
        "\n",
        "            middle_x_gt, middle_y_gt = compute_center([gt_boxes[i][g][0], gt_boxes[i][g][1], w, h])\n",
        "\n",
        "            t_x = (middle_x_gt-middle_x)/(vals_x2-vals_x1)\n",
        "            t_y = (middle_y_gt-middle_y)/(vals_y2-vals_y1)\n",
        "\n",
        "            t_w = np.log(w/(vals_x2-vals_x1).data.cpu())\n",
        "            t_h = np.log(h/(vals_y2-vals_y1).data.cpu())\n",
        "\n",
        "            paramed = t_param_to_topleft_topright(t_x, t_y, t_w, t_h,vals_x1,vals_y1,vals_x2,vals_y2)\n",
        "            \n",
        "            boxes_predicted = torch.unbind(torch.stack(paramed),axis=1)\n",
        "            #display_list_of_boxes(elem[0][0].permute(1,2,0),boxes_predicted, wh = False)\n",
        "            \n",
        "            gt_list = [gt_boxes[i][g].cuda() for j in range(paramed[0].shape[0])]\n",
        "            \n",
        "\n",
        "            list_of_gt_classes.extend([gt_label[i][g] for j in range(paramed[0].shape[0])])\n",
        "            t_values = [torch.tensor([t_x[j], t_y[j], t_w[j], t_h[j]]).cuda() for j in range(t_x.shape[0])]\n",
        "\n",
        "            list_of_t_params.extend(t_values)\n",
        "            list_of_gt_boundingboxes.extend(gt_list)\n",
        "\n",
        "\n",
        "            stacked_bboxes = torch.stack([vals_x1, vals_y1, vals_x2, vals_y2])\n",
        "            stacked_bboxes = list(torch.unbind(stacked_bboxes,axis=1))\n",
        "            list_of_boundingboxes.extend(stacked_bboxes)\n",
        "\n",
        "            list_of_gt_masks.extend([gt_mask[i][g] for j in range(paramed[0].shape[0])])\n",
        "            \n",
        "\n",
        "            #print(\"hi\", len(list_of_boundingboxes), len(list_of_t_params), list_of_boundingboxes[0].shape, list_of_t_params[0].shape, \"bye\")\n",
        "            \n",
        "            if x1[test>0.5].shape[0] == 0:\n",
        "              index = torch.where(test==torch.max(test).data)[0]\n",
        "              val_x1 = x1[index].data.cpu()\n",
        "              val_y1 = y1[index].data.cpu()\n",
        "              val_x2 = x2[index].data.cpu()\n",
        "              val_y2 = y2[index].data.cpu()\n",
        "              middle_x, middle_y = compute_center([val_x1, val_y1, val_x2-val_x1, val_y2-val_y1])\n",
        "\n",
        "              allvals_predicted = torch.tensor([vals_x1,vals_y1,vals_x2,vals_y2])\n",
        "              list_of_t_params.append(allvals_predicted)\n",
        "\n",
        "              t_x = (middle_x_gt-middle_x)/(val_x2-val_x1)\n",
        "              t_y = (middle_y_gt-middle_y)/(val_y2-val_y1)\n",
        "\n",
        "              t_w = np.log(w/(val_x2-val_x1).data.cpu())\n",
        "              t_h = np.log(h/(val_y2-val_y1).data.cpu())\n",
        "\n",
        "              t_values = torch.tensor([t_x, t_y, t_w, t_h])\n",
        "              list_of_t_params.append(t_values)\n",
        "\n",
        "              list_of_gt_boundingboxes.append(gt_boxes[i][g])\n",
        "              \n",
        "              list_of_gt_masks.append(gt_mask[i][g])\n",
        "              list_of_gt_classes.append(gt_label[i][g])  \n",
        "      \n",
        "        \"\"\"Now for background\"\"\"\n",
        "        \n",
        "        a = torch.stack(accumulated_tests)\n",
        "        maxval = torch.max(a, dim=0)[0]\n",
        "        vals_x1 = x1[maxval<0.5].data.cpu()\n",
        "        vals_y1 = y1[maxval<0.5].data.cpu()\n",
        "        vals_x2 = x2[maxval<0.5].data.cpu()\n",
        "        vals_y2 = y2[maxval<0.5].data.cpu()\n",
        "        \n",
        "        stacked_bboxes = torch.stack([vals_x1, vals_y1, vals_x2, vals_y2])\n",
        "        list_of_boundingboxes_background.extend(list(torch.unbind(stacked_bboxes,axis=1)))\n",
        "\n",
        "        \"\"\"Getting positives and negatives\"\"\"\n",
        "\n",
        "        top_20_bboxes = list_of_boundingboxes\n",
        "        number_of_positives = len(list_of_boundingboxes)\n",
        "\n",
        "        if number_of_positives < 70:\n",
        "          #top_bboxes = list_of_boundingboxes\n",
        "          #top_tparams = list_of_t_params\n",
        "          #top_gt_bboxes = list_of_gt_boundingboxes\n",
        "          #top_classes = list_of_gt_classes\n",
        "          indexes_of_positives.append(len(list_of_boundingboxes))\n",
        "          background_bboxes = list_of_boundingboxes_background[0:70-len(list_of_boundingboxes)]\n",
        "          #total_classes_gt_pos.extend(torch.zeros(0:70-len(list_of_boundingboxes)))\n",
        "          \n",
        "        else:\n",
        "           background_bboxes = list_of_boundingboxes\n",
        "\n",
        "        all_images_list_of_boundingboxes.append(torch.stack(list_of_boundingboxes).cuda()) \n",
        "        all_images_list_of_boundingboxes_background.append(torch.stack(background_bboxes).cuda()) \n",
        "        all_images_list_of_gt_boundingboxes.append(torch.stack(list_of_gt_boundingboxes).cuda())\n",
        "    \n",
        "        all_images_list_of_t_params.append(torch.stack(list_of_t_params).cuda())\n",
        "        all_images_list_of_gt_classes.append(torch.stack(list_of_gt_classes).cuda())\n",
        "\n",
        "      \"\"\"Getting the ROI align for both the background boxes and non-background boxes\"\"\"\n",
        "      test = torchvision.ops.roi_align(backout[0].cuda(), all_images_list_of_boundingboxes, (7,7), spatial_scale=1.0/4.0, sampling_ratio=-1)\n",
        "      test2 = torchvision.ops.roi_align(backout[0].cuda(), all_images_list_of_boundingboxes_background, (7,7), spatial_scale=1.0/4.0, sampling_ratio=-1)\n",
        "      total_features = torch.cat([test, test2])\n",
        "          \n",
        "      #you dont need to make your own one hot encodings since Cross entropy takes a vector of predictions, and a value of target\n",
        "      c = total_features.view(total_features.size(0), -1)\n",
        "      classification, regression = net(c.cuda())\n",
        "          \n",
        "      total_t_params = torch.cat(all_images_list_of_t_params)\n",
        "      total_classes_gt_pos = torch.cat(all_images_list_of_gt_classes)\n",
        "      \n",
        "      \"\"\"classes for background + nonbackground\"\"\"\n",
        "      total_pos_and_neg = torch.cat([total_classes_gt_pos.double(),torch.zeros(70*elem[0].shape[0]-total_classes_gt_pos.shape[0]).double().cuda()])\n",
        "      optimizer.zero_grad()\n",
        "\n",
        "      \"\"\"We only care about the regressions for the non-background boxes\"\"\"\n",
        "      regressed = regression[0:total_classes_gt_pos.shape[0]]\n",
        "\n",
        "      \"\"\"indexing into the correct four values for that class\"\"\"\n",
        "      hot_encoding_regressor =  torch.stack([torch.arange(l*4,((l+1)*4)) for l in torch.tensor(total_classes_gt_pos.tolist()).cuda().type(torch.cuda.LongTensor)])\n",
        "      regressor_bboxes = torch.gather(\n",
        "            regressed.cuda(), 1, hot_encoding_regressor.type(torch.cuda.LongTensor))\n",
        "\n",
        "      \"\"\"getting losses\"\"\"           \n",
        "      regression_loss = criterion2(regressor_bboxes, total_t_params.type(torch.FloatTensor).cuda())\n",
        "      classification_loss = criterion(classification, total_pos_and_neg.type(torch.LongTensor).cuda())\n",
        "\n",
        "      loss = classification_loss + regression_loss\n",
        "    \n",
        "      loss.backward()   \n",
        "      running_classification = classification_loss.item()\n",
        "      running_regression = regression_loss.item()\n",
        "      running_loss += loss.item()\n",
        "      info['running_classification_loss'].append(classification_loss.item())\n",
        "      info['running_regression_loss'].append(regression_loss.item())\n",
        "      info['loss'].append(loss.item())\n",
        "      optimizer.step()\n",
        "      \n",
        "  torch.save(net.state_dict(), model_path)\n",
        "  info['epoch'].append(epoch)\n",
        "  info['total_loss'].append(running_loss)\n",
        "  info['classification_loss'].append(running_classification)\n",
        "  info['regression_loss'].append(running_regression)\n",
        "  info['learning_rate'].append(learning_rate)\n",
        "  torch.save(info, info_path)\n"
      ],
      "execution_count": 118,
      "outputs": [
        {
          "output_type": "stream",
          "text": [
            "Yes\n",
            "6 epoch\n"
          ],
          "name": "stdout"
        },
        {
          "output_type": "stream",
          "text": [
            "/usr/local/lib/python3.6/dist-packages/ipykernel_launcher.py:11: UserWarning: Implicit dimension choice for softmax has been deprecated. Change the call to include dim=X as an argument.\n",
            "  # This is added back by InteractiveShellApp.init_path()\n"
          ],
          "name": "stderr"
        },
        {
          "output_type": "error",
          "ename": "KeyboardInterrupt",
          "evalue": "ignored",
          "traceback": [
            "\u001b[0;31m---------------------------------------------------------------------------\u001b[0m",
            "\u001b[0;31mKeyboardInterrupt\u001b[0m                         Traceback (most recent call last)",
            "\u001b[0;32m<ipython-input-118-f6b56fea0d7f>\u001b[0m in \u001b[0;36m<module>\u001b[0;34m()\u001b[0m\n\u001b[1;32m     38\u001b[0m   \u001b[0mrunning_classification\u001b[0m \u001b[0;34m=\u001b[0m \u001b[0;36m0\u001b[0m\u001b[0;34m\u001b[0m\u001b[0;34m\u001b[0m\u001b[0m\n\u001b[1;32m     39\u001b[0m   \u001b[0mrunning_regression\u001b[0m \u001b[0;34m=\u001b[0m \u001b[0;36m0\u001b[0m\u001b[0;34m\u001b[0m\u001b[0;34m\u001b[0m\u001b[0m\n\u001b[0;32m---> 40\u001b[0;31m   \u001b[0;32mfor\u001b[0m \u001b[0melem_index\u001b[0m\u001b[0;34m,\u001b[0m \u001b[0melem\u001b[0m \u001b[0;32min\u001b[0m \u001b[0menumerate\u001b[0m\u001b[0;34m(\u001b[0m\u001b[0mtrain_dataloader\u001b[0m\u001b[0;34m)\u001b[0m\u001b[0;34m:\u001b[0m\u001b[0;34m\u001b[0m\u001b[0;34m\u001b[0m\u001b[0m\n\u001b[0m\u001b[1;32m     41\u001b[0m     \u001b[0mstart\u001b[0m \u001b[0;34m=\u001b[0m \u001b[0mtimer\u001b[0m\u001b[0;34m(\u001b[0m\u001b[0;34m)\u001b[0m\u001b[0;34m\u001b[0m\u001b[0;34m\u001b[0m\u001b[0m\n\u001b[1;32m     42\u001b[0m     \u001b[0mall_images_list_of_featuremaps\u001b[0m \u001b[0;34m=\u001b[0m \u001b[0;34m[\u001b[0m\u001b[0;34m]\u001b[0m\u001b[0;34m\u001b[0m\u001b[0;34m\u001b[0m\u001b[0m\n",
            "\u001b[0;32m/usr/local/lib/python3.6/dist-packages/torch/utils/data/dataloader.py\u001b[0m in \u001b[0;36m__next__\u001b[0;34m(self)\u001b[0m\n\u001b[1;32m    344\u001b[0m     \u001b[0;32mdef\u001b[0m \u001b[0m__next__\u001b[0m\u001b[0;34m(\u001b[0m\u001b[0mself\u001b[0m\u001b[0;34m)\u001b[0m\u001b[0;34m:\u001b[0m\u001b[0;34m\u001b[0m\u001b[0;34m\u001b[0m\u001b[0m\n\u001b[1;32m    345\u001b[0m         \u001b[0mindex\u001b[0m \u001b[0;34m=\u001b[0m \u001b[0mself\u001b[0m\u001b[0;34m.\u001b[0m\u001b[0m_next_index\u001b[0m\u001b[0;34m(\u001b[0m\u001b[0;34m)\u001b[0m  \u001b[0;31m# may raise StopIteration\u001b[0m\u001b[0;34m\u001b[0m\u001b[0;34m\u001b[0m\u001b[0m\n\u001b[0;32m--> 346\u001b[0;31m         \u001b[0mdata\u001b[0m \u001b[0;34m=\u001b[0m \u001b[0mself\u001b[0m\u001b[0;34m.\u001b[0m\u001b[0m_dataset_fetcher\u001b[0m\u001b[0;34m.\u001b[0m\u001b[0mfetch\u001b[0m\u001b[0;34m(\u001b[0m\u001b[0mindex\u001b[0m\u001b[0;34m)\u001b[0m  \u001b[0;31m# may raise StopIteration\u001b[0m\u001b[0;34m\u001b[0m\u001b[0;34m\u001b[0m\u001b[0m\n\u001b[0m\u001b[1;32m    347\u001b[0m         \u001b[0;32mif\u001b[0m \u001b[0mself\u001b[0m\u001b[0;34m.\u001b[0m\u001b[0m_pin_memory\u001b[0m\u001b[0;34m:\u001b[0m\u001b[0;34m\u001b[0m\u001b[0;34m\u001b[0m\u001b[0m\n\u001b[1;32m    348\u001b[0m             \u001b[0mdata\u001b[0m \u001b[0;34m=\u001b[0m \u001b[0m_utils\u001b[0m\u001b[0;34m.\u001b[0m\u001b[0mpin_memory\u001b[0m\u001b[0;34m.\u001b[0m\u001b[0mpin_memory\u001b[0m\u001b[0;34m(\u001b[0m\u001b[0mdata\u001b[0m\u001b[0;34m)\u001b[0m\u001b[0;34m\u001b[0m\u001b[0;34m\u001b[0m\u001b[0m\n",
            "\u001b[0;32m/usr/local/lib/python3.6/dist-packages/torch/utils/data/_utils/fetch.py\u001b[0m in \u001b[0;36mfetch\u001b[0;34m(self, possibly_batched_index)\u001b[0m\n\u001b[1;32m     42\u001b[0m     \u001b[0;32mdef\u001b[0m \u001b[0mfetch\u001b[0m\u001b[0;34m(\u001b[0m\u001b[0mself\u001b[0m\u001b[0;34m,\u001b[0m \u001b[0mpossibly_batched_index\u001b[0m\u001b[0;34m)\u001b[0m\u001b[0;34m:\u001b[0m\u001b[0;34m\u001b[0m\u001b[0;34m\u001b[0m\u001b[0m\n\u001b[1;32m     43\u001b[0m         \u001b[0;32mif\u001b[0m \u001b[0mself\u001b[0m\u001b[0;34m.\u001b[0m\u001b[0mauto_collation\u001b[0m\u001b[0;34m:\u001b[0m\u001b[0;34m\u001b[0m\u001b[0;34m\u001b[0m\u001b[0m\n\u001b[0;32m---> 44\u001b[0;31m             \u001b[0mdata\u001b[0m \u001b[0;34m=\u001b[0m \u001b[0;34m[\u001b[0m\u001b[0mself\u001b[0m\u001b[0;34m.\u001b[0m\u001b[0mdataset\u001b[0m\u001b[0;34m[\u001b[0m\u001b[0midx\u001b[0m\u001b[0;34m]\u001b[0m \u001b[0;32mfor\u001b[0m \u001b[0midx\u001b[0m \u001b[0;32min\u001b[0m \u001b[0mpossibly_batched_index\u001b[0m\u001b[0;34m]\u001b[0m\u001b[0;34m\u001b[0m\u001b[0;34m\u001b[0m\u001b[0m\n\u001b[0m\u001b[1;32m     45\u001b[0m         \u001b[0;32melse\u001b[0m\u001b[0;34m:\u001b[0m\u001b[0;34m\u001b[0m\u001b[0;34m\u001b[0m\u001b[0m\n\u001b[1;32m     46\u001b[0m             \u001b[0mdata\u001b[0m \u001b[0;34m=\u001b[0m \u001b[0mself\u001b[0m\u001b[0;34m.\u001b[0m\u001b[0mdataset\u001b[0m\u001b[0;34m[\u001b[0m\u001b[0mpossibly_batched_index\u001b[0m\u001b[0;34m]\u001b[0m\u001b[0;34m\u001b[0m\u001b[0;34m\u001b[0m\u001b[0m\n",
            "\u001b[0;32m/usr/local/lib/python3.6/dist-packages/torch/utils/data/_utils/fetch.py\u001b[0m in \u001b[0;36m<listcomp>\u001b[0;34m(.0)\u001b[0m\n\u001b[1;32m     42\u001b[0m     \u001b[0;32mdef\u001b[0m \u001b[0mfetch\u001b[0m\u001b[0;34m(\u001b[0m\u001b[0mself\u001b[0m\u001b[0;34m,\u001b[0m \u001b[0mpossibly_batched_index\u001b[0m\u001b[0;34m)\u001b[0m\u001b[0;34m:\u001b[0m\u001b[0;34m\u001b[0m\u001b[0;34m\u001b[0m\u001b[0m\n\u001b[1;32m     43\u001b[0m         \u001b[0;32mif\u001b[0m \u001b[0mself\u001b[0m\u001b[0;34m.\u001b[0m\u001b[0mauto_collation\u001b[0m\u001b[0;34m:\u001b[0m\u001b[0;34m\u001b[0m\u001b[0;34m\u001b[0m\u001b[0m\n\u001b[0;32m---> 44\u001b[0;31m             \u001b[0mdata\u001b[0m \u001b[0;34m=\u001b[0m \u001b[0;34m[\u001b[0m\u001b[0mself\u001b[0m\u001b[0;34m.\u001b[0m\u001b[0mdataset\u001b[0m\u001b[0;34m[\u001b[0m\u001b[0midx\u001b[0m\u001b[0;34m]\u001b[0m \u001b[0;32mfor\u001b[0m \u001b[0midx\u001b[0m \u001b[0;32min\u001b[0m \u001b[0mpossibly_batched_index\u001b[0m\u001b[0;34m]\u001b[0m\u001b[0;34m\u001b[0m\u001b[0;34m\u001b[0m\u001b[0m\n\u001b[0m\u001b[1;32m     45\u001b[0m         \u001b[0;32melse\u001b[0m\u001b[0;34m:\u001b[0m\u001b[0;34m\u001b[0m\u001b[0;34m\u001b[0m\u001b[0m\n\u001b[1;32m     46\u001b[0m             \u001b[0mdata\u001b[0m \u001b[0;34m=\u001b[0m \u001b[0mself\u001b[0m\u001b[0;34m.\u001b[0m\u001b[0mdataset\u001b[0m\u001b[0;34m[\u001b[0m\u001b[0mpossibly_batched_index\u001b[0m\u001b[0;34m]\u001b[0m\u001b[0;34m\u001b[0m\u001b[0;34m\u001b[0m\u001b[0m\n",
            "\u001b[0;32m/usr/local/lib/python3.6/dist-packages/torch/utils/data/dataset.py\u001b[0m in \u001b[0;36m__getitem__\u001b[0;34m(self, idx)\u001b[0m\n\u001b[1;32m    255\u001b[0m \u001b[0;34m\u001b[0m\u001b[0m\n\u001b[1;32m    256\u001b[0m     \u001b[0;32mdef\u001b[0m \u001b[0m__getitem__\u001b[0m\u001b[0;34m(\u001b[0m\u001b[0mself\u001b[0m\u001b[0;34m,\u001b[0m \u001b[0midx\u001b[0m\u001b[0;34m)\u001b[0m\u001b[0;34m:\u001b[0m\u001b[0;34m\u001b[0m\u001b[0;34m\u001b[0m\u001b[0m\n\u001b[0;32m--> 257\u001b[0;31m         \u001b[0;32mreturn\u001b[0m \u001b[0mself\u001b[0m\u001b[0;34m.\u001b[0m\u001b[0mdataset\u001b[0m\u001b[0;34m[\u001b[0m\u001b[0mself\u001b[0m\u001b[0;34m.\u001b[0m\u001b[0mindices\u001b[0m\u001b[0;34m[\u001b[0m\u001b[0midx\u001b[0m\u001b[0;34m]\u001b[0m\u001b[0;34m]\u001b[0m\u001b[0;34m\u001b[0m\u001b[0;34m\u001b[0m\u001b[0m\n\u001b[0m\u001b[1;32m    258\u001b[0m \u001b[0;34m\u001b[0m\u001b[0m\n\u001b[1;32m    259\u001b[0m     \u001b[0;32mdef\u001b[0m \u001b[0m__len__\u001b[0m\u001b[0;34m(\u001b[0m\u001b[0mself\u001b[0m\u001b[0;34m)\u001b[0m\u001b[0;34m:\u001b[0m\u001b[0;34m\u001b[0m\u001b[0;34m\u001b[0m\u001b[0m\n",
            "\u001b[0;32m<ipython-input-59-94972732fd03>\u001b[0m in \u001b[0;36m__getitem__\u001b[0;34m(self, idx)\u001b[0m\n\u001b[1;32m     35\u001b[0m         \u001b[0;34m'labels'\u001b[0m\u001b[0;34m:\u001b[0m \u001b[0mself\u001b[0m\u001b[0;34m.\u001b[0m\u001b[0mlabels\u001b[0m\u001b[0;34m[\u001b[0m\u001b[0midx\u001b[0m\u001b[0;34m]\u001b[0m\u001b[0;34m.\u001b[0m\u001b[0mastype\u001b[0m\u001b[0;34m(\u001b[0m\u001b[0;34m'float'\u001b[0m\u001b[0;34m)\u001b[0m\u001b[0;34m,\u001b[0m\u001b[0;34m\u001b[0m\u001b[0;34m\u001b[0m\u001b[0m\n\u001b[1;32m     36\u001b[0m         \u001b[0;34m'bboxes'\u001b[0m\u001b[0;34m:\u001b[0m \u001b[0mself\u001b[0m\u001b[0;34m.\u001b[0m\u001b[0mbboxes\u001b[0m\u001b[0;34m[\u001b[0m\u001b[0midx\u001b[0m\u001b[0;34m]\u001b[0m\u001b[0;34m.\u001b[0m\u001b[0mastype\u001b[0m\u001b[0;34m(\u001b[0m\u001b[0;34m'float'\u001b[0m\u001b[0;34m)\u001b[0m\u001b[0;34m,\u001b[0m\u001b[0;34m\u001b[0m\u001b[0;34m\u001b[0m\u001b[0m\n\u001b[0;32m---> 37\u001b[0;31m         \u001b[0;34m'masks'\u001b[0m\u001b[0;34m:\u001b[0m \u001b[0mconvert_masks\u001b[0m\u001b[0;34m(\u001b[0m\u001b[0mmasks\u001b[0m\u001b[0;34m)\u001b[0m\u001b[0;34m\u001b[0m\u001b[0;34m\u001b[0m\u001b[0m\n\u001b[0m\u001b[1;32m     38\u001b[0m     }\n\u001b[1;32m     39\u001b[0m \u001b[0;34m\u001b[0m\u001b[0m\n",
            "\u001b[0;32m<ipython-input-56-6c26a42ced25>\u001b[0m in \u001b[0;36mconvert_masks\u001b[0;34m(masks)\u001b[0m\n\u001b[1;32m     69\u001b[0m   \u001b[0;32mfor\u001b[0m \u001b[0mmask\u001b[0m \u001b[0;32min\u001b[0m \u001b[0mmasks\u001b[0m\u001b[0;34m:\u001b[0m\u001b[0;34m\u001b[0m\u001b[0;34m\u001b[0m\u001b[0m\n\u001b[1;32m     70\u001b[0m     \u001b[0mnew\u001b[0m \u001b[0;34m=\u001b[0m \u001b[0m_resize_mask\u001b[0m\u001b[0;34m(\u001b[0m\u001b[0mmask\u001b[0m\u001b[0;34m,\u001b[0m \u001b[0;34m(\u001b[0m\u001b[0;36m1066\u001b[0m\u001b[0;34m,\u001b[0m\u001b[0;36m800\u001b[0m\u001b[0;34m)\u001b[0m\u001b[0;34m)\u001b[0m\u001b[0;34m\u001b[0m\u001b[0;34m\u001b[0m\u001b[0m\n\u001b[0;32m---> 71\u001b[0;31m     \u001b[0mpadded\u001b[0m \u001b[0;34m=\u001b[0m \u001b[0mpad_along_axis\u001b[0m\u001b[0;34m(\u001b[0m\u001b[0mnew\u001b[0m\u001b[0;34m,\u001b[0m\u001b[0;36m11\u001b[0m\u001b[0;34m)\u001b[0m\u001b[0;34m\u001b[0m\u001b[0;34m\u001b[0m\u001b[0m\n\u001b[0m\u001b[1;32m     72\u001b[0m     \u001b[0mtotal\u001b[0m\u001b[0;34m.\u001b[0m\u001b[0mappend\u001b[0m\u001b[0;34m(\u001b[0m\u001b[0mpadded\u001b[0m\u001b[0;34m)\u001b[0m\u001b[0;34m\u001b[0m\u001b[0;34m\u001b[0m\u001b[0m\n\u001b[1;32m     73\u001b[0m   \u001b[0;32mreturn\u001b[0m \u001b[0mnp\u001b[0m\u001b[0;34m.\u001b[0m\u001b[0marray\u001b[0m\u001b[0;34m(\u001b[0m\u001b[0mtotal\u001b[0m\u001b[0;34m)\u001b[0m\u001b[0;34m\u001b[0m\u001b[0;34m\u001b[0m\u001b[0m\n",
            "\u001b[0;32m<ipython-input-57-b42853fede6b>\u001b[0m in \u001b[0;36mpad_along_axis\u001b[0;34m(array, target_length, axis)\u001b[0m\n\u001b[1;32m      3\u001b[0m       \u001b[0mnew\u001b[0m \u001b[0;34m=\u001b[0m \u001b[0mnp\u001b[0m\u001b[0;34m.\u001b[0m\u001b[0marray\u001b[0m\u001b[0;34m(\u001b[0m\u001b[0mnp\u001b[0m\u001b[0;34m.\u001b[0m\u001b[0mzeros\u001b[0m\u001b[0;34m(\u001b[0m\u001b[0;34m(\u001b[0m\u001b[0;36m3\u001b[0m\u001b[0;34m,\u001b[0m\u001b[0;36m800\u001b[0m\u001b[0;34m,\u001b[0m\u001b[0;36m1088\u001b[0m\u001b[0;34m)\u001b[0m\u001b[0;34m)\u001b[0m\u001b[0;34m)\u001b[0m\u001b[0;34m\u001b[0m\u001b[0;34m\u001b[0m\u001b[0m\n\u001b[1;32m      4\u001b[0m     \u001b[0;32melse\u001b[0m\u001b[0;34m:\u001b[0m\u001b[0;34m\u001b[0m\u001b[0;34m\u001b[0m\u001b[0m\n\u001b[0;32m----> 5\u001b[0;31m       \u001b[0mnew\u001b[0m \u001b[0;34m=\u001b[0m \u001b[0mnp\u001b[0m\u001b[0;34m.\u001b[0m\u001b[0marray\u001b[0m\u001b[0;34m(\u001b[0m\u001b[0mnp\u001b[0m\u001b[0;34m.\u001b[0m\u001b[0mzeros\u001b[0m\u001b[0;34m(\u001b[0m\u001b[0;34m(\u001b[0m\u001b[0;36m800\u001b[0m\u001b[0;34m,\u001b[0m\u001b[0;36m1088\u001b[0m\u001b[0;34m)\u001b[0m\u001b[0;34m)\u001b[0m\u001b[0;34m)\u001b[0m\u001b[0;34m\u001b[0m\u001b[0;34m\u001b[0m\u001b[0m\n\u001b[0m\u001b[1;32m      6\u001b[0m \u001b[0;34m\u001b[0m\u001b[0m\n\u001b[1;32m      7\u001b[0m     \u001b[0;32mif\u001b[0m \u001b[0marray\u001b[0m\u001b[0;34m.\u001b[0m\u001b[0mshape\u001b[0m\u001b[0;34m[\u001b[0m\u001b[0;36m0\u001b[0m\u001b[0;34m]\u001b[0m \u001b[0;34m==\u001b[0m \u001b[0;36m3\u001b[0m\u001b[0;34m:\u001b[0m\u001b[0;34m\u001b[0m\u001b[0;34m\u001b[0m\u001b[0m\n",
            "\u001b[0;31mKeyboardInterrupt\u001b[0m: "
          ]
        }
      ]
    },
    {
      "cell_type": "code",
      "metadata": {
        "id": "r-PkLGeMjpal",
        "colab_type": "code",
        "outputId": "1a26739c-0d6e-4bae-9f25-87cdf6d5ab7d",
        "colab": {
          "base_uri": "https://localhost:8080/",
          "height": 761
        }
      },
      "source": [
        "plt.plot(torch.load(HOMEWORK_FOLDER + \"/info_final1\")['total_loss'])\n",
        "plt.savefig(HOMEWORK_FOLDER + '/total_loss_1.png')\n",
        "plt.figure()\n",
        "plt.plot(torch.load(HOMEWORK_FOLDER + \"/info_final1\")['classification_loss'])\n",
        "plt.savefig(HOMEWORK_FOLDER + '/classification_loss_1.png')\n",
        "plt.figure()\n",
        "plt.plot(torch.load(HOMEWORK_FOLDER + \"/info_final1\")['regression_loss'])\n",
        "plt.savefig(HOMEWORK_FOLDER  + '/regression_loss_1.png')"
      ],
      "execution_count": 0,
      "outputs": [
        {
          "output_type": "display_data",
          "data": {
            "image/png": "[encoded data removed]",
            "text/plain": [
              "<Figure size 432x288 with 1 Axes>"
            ]
          },
          "metadata": {
            "tags": []
          }
        },
        {
          "output_type": "display_data",
          "data": {
            "image/png": "[encoded data removed]",
            "text/plain": [
              "<Figure size 432x288 with 1 Axes>"
            ]
          },
          "metadata": {
            "tags": []
          }
        },
        {
          "output_type": "display_data",
          "data": {
            "image/png": "[encoded data removed]",
            "text/plain": [
              "<Figure size 432x288 with 1 Axes>"
            ]
          },
          "metadata": {
            "tags": []
          }
        }
      ]
    },
    {
      "cell_type": "code",
      "metadata": {
        "id": "uRRp-m2oob4W",
        "colab_type": "code",
        "outputId": "d4c2d461-11b3-40ce-e0d0-ce32a40757b3",
        "colab": {
          "base_uri": "https://localhost:8080/",
          "height": 360
        }
      },
      "source": [
        "net = MLP().cuda()\n",
        "net.load_state_dict(torch.load(os.path.join(HOMEWORK_FOLDER,'model_final2')))\n",
        "test_dataloader = DataLoader(test_dataset, batch_size=8, shuffle=False, collate_fn = my_collate)\n",
        "\n",
        "for elem_index, elem in enumerate(test_dataloader):\n",
        "  start = timer()\n",
        "  all_images_list_of_featuremaps = []\n",
        "  all_images_list_of_boundingboxes = []\n",
        "  all_images_list_of_boundingboxes_background = []\n",
        "  all_images_list_of_gt_masks = []\n",
        "  all_images_list_of_t_params = []\n",
        "  all_images_list_of_gt_classes = []\n",
        "\n",
        "  all_images_list_of_gt_boundingboxes = []\n",
        "\n",
        "  #print(timer()-start)\n",
        "  if torch.cuda.is_available():\n",
        "    x = elem[0].cuda()\n",
        "    gt_mask = elem[1]\n",
        "    gt_label = elem[2]\n",
        "    gt_boxes = elem[3].cuda()\n",
        "    \n",
        "\n",
        "    backout = backbone(x.float())\n",
        "    im_lis = ImageList(x, [(800,1088)]*elem[0].shape[0])\n",
        "    rpn.eval()\n",
        "    rpnout = rpn(im_lis,backout)\n",
        "\n",
        "    for param in backbone.parameters():\n",
        "      param.requires_grad=False\n",
        "\n",
        "    for param in rpn.parameters():\n",
        "      param.requires_Grad=False\n",
        "\n",
        "  for i in range(len(rpnout[0])):\n",
        "    list_of_boundingboxes = []\n",
        "    list_of_gt_masks = []\n",
        "    list_of_gt_boundingboxes = []\n",
        "    list_of_gt_classes = []\n",
        "    list_of_t_params = []\n",
        "\n",
        "    list_of_boundingboxes_background = []\n",
        "    list_of_gt_masks_background = []\n",
        "    list_of_gt_boundingboxes_background = []\n",
        "\n",
        "    current_batch = rpnout[0][i]\n",
        "\n",
        "    x1 = current_batch[:,0]\n",
        "    y1 = current_batch[:,1]\n",
        "    x2 = current_batch[:,2]\n",
        "    y2 = current_batch[:,3]\n",
        "    max_iou = 0\n",
        "    gbox = None\n",
        "    bestbox = None\n",
        "    bestbox_mask = None\n",
        "    bestbox_label = None\n",
        "\n",
        "    accumulated_tests = [] \n",
        "    indexes_of_positives = []\n",
        "\n",
        "    #g iterates through all the ground truth boxes\n",
        "    for g in range(elem[3][i].shape[0]):\n",
        "      if gt_label[i][g] != -1:\n",
        "        test = ratio_iou(gt_boxes[i][g][0], gt_boxes[i][g][1], gt_boxes[i][g][2], gt_boxes[i][g][3], x1,y1,x2,y2)\n",
        "        accumulated_tests.append(test)\n",
        "\n",
        "        vals_x1 = x1[test>0.5].data.cpu()\n",
        "        vals_y1 = y1[test>0.5].data.cpu()\n",
        "        vals_x2 = x2[test>0.5].data.cpu()\n",
        "        vals_y2 = y2[test>0.5].data.cpu()\n",
        "\n",
        "        allvals = torch.stack([vals_x1,vals_y1,vals_x2,vals_y2])\n",
        "        allvals_predicted = list(torch.unbind(allvals,axis=1))\n",
        "        \n",
        "        middle_x, middle_y = compute_center([vals_x1, vals_y1, vals_x2-vals_x1, vals_y2-vals_y1])\n",
        "\n",
        "        w = gt_boxes[i][g][2]-gt_boxes[i][g][0]\n",
        "        h = gt_boxes[i][g][3]-gt_boxes[i][g][1]\n",
        "\n",
        "        middle_x_gt, middle_y_gt = compute_center([gt_boxes[i][g][0], gt_boxes[i][g][1], w, h])\n",
        "\n",
        "        t_x = (middle_x_gt-middle_x)/(vals_x2-vals_x1)\n",
        "        t_y = (middle_y_gt-middle_y)/(vals_y2-vals_y1)\n",
        "\n",
        "        t_w = np.log(w/(vals_x2-vals_x1).data.cpu())\n",
        "        t_h = np.log(h/(vals_y2-vals_y1).data.cpu())\n",
        "\n",
        "        paramed = t_param_to_topleft_topright(t_x, t_y, t_w, t_h,vals_x1,vals_y1,vals_x2,vals_y2)\n",
        "        \n",
        "        boxes_predicted = torch.unbind(torch.stack(paramed),axis=1)\n",
        "        #display_list_of_boxes(elem[0][0].permute(1,2,0),boxes_predicted, wh = False)\n",
        "        \n",
        "        gt_list = [gt_boxes[i][g].cuda() for j in range(paramed[0].shape[0])]\n",
        "        \n",
        "\n",
        "        list_of_gt_classes.extend([gt_label[i][g] for j in range(paramed[0].shape[0])])\n",
        "        t_values = [torch.tensor([t_x[j], t_y[j], t_w[j], t_h[j]]).cuda() for j in range(t_x.shape[0])]\n",
        "\n",
        "        list_of_t_params.extend(t_values)\n",
        "        list_of_gt_boundingboxes.extend(gt_list)\n",
        "\n",
        "\n",
        "        stacked_bboxes = torch.stack([vals_x1, vals_y1, vals_x2, vals_y2])\n",
        "        stacked_bboxes = list(torch.unbind(stacked_bboxes,axis=1))\n",
        "        list_of_boundingboxes.extend(stacked_bboxes)\n",
        "\n",
        "        list_of_gt_masks.extend([gt_mask[i][g] for j in range(paramed[0].shape[0])])\n",
        "        \n",
        "\n",
        "        #print(\"hi\", len(list_of_boundingboxes), len(list_of_t_params), list_of_boundingboxes[0].shape, list_of_t_params[0].shape, \"bye\")\n",
        "        \n",
        "        if x1[test>0.5].shape[0] == 0:\n",
        "          index = torch.where(test==torch.max(test).data)[0]\n",
        "          val_x1 = x1[index].data.cpu()\n",
        "          val_y1 = y1[index].data.cpu()\n",
        "          val_x2 = x2[index].data.cpu()\n",
        "          val_y2 = y2[index].data.cpu()\n",
        "          middle_x, middle_y = compute_center([val_x1, val_y1, val_x2-val_x1, val_y2-val_y1])\n",
        "\n",
        "          allvals_predicted = torch.tensor([vals_x1,vals_y1,vals_x2,vals_y2])\n",
        "          list_of_t_params.append(allvals_predicted)\n",
        "\n",
        "          t_x = (middle_x_gt-middle_x)/(val_x2-val_x1)\n",
        "          t_y = (middle_y_gt-middle_y)/(val_y2-val_y1)\n",
        "\n",
        "          t_w = np.log(w/(val_x2-val_x1).data.cpu())\n",
        "          t_h = np.log(h/(val_y2-val_y1).data.cpu())\n",
        "\n",
        "          t_values = torch.tensor([t_x, t_y, t_w, t_h])\n",
        "          list_of_t_params.append(t_values)\n",
        "\n",
        "          list_of_gt_boundingboxes.append(gt_boxes[i][g])\n",
        "          \n",
        "          list_of_gt_masks.append(gt_mask[i][g])\n",
        "          list_of_gt_classes.append(gt_label[i][g])  \n",
        "  \n",
        "    \"\"\"Now for background\"\"\"\n",
        "    \n",
        "    a = torch.stack(accumulated_tests)\n",
        "    maxval = torch.max(a, dim=0)[0]\n",
        "    vals_x1 = x1[maxval<0.5].data.cpu()\n",
        "    vals_y1 = y1[maxval<0.5].data.cpu()\n",
        "    vals_x2 = x2[maxval<0.5].data.cpu()\n",
        "    vals_y2 = y2[maxval<0.5].data.cpu()\n",
        "    \n",
        "    stacked_bboxes = torch.stack([vals_x1, vals_y1, vals_x2, vals_y2])\n",
        "    list_of_boundingboxes_background.extend(list(torch.unbind(stacked_bboxes,axis=1)))\n",
        "\n",
        "    \"\"\"Getting positives and negatives\"\"\"\n",
        "\n",
        "    top_20_bboxes = list_of_boundingboxes\n",
        "    number_of_positives = len(list_of_boundingboxes)\n",
        "\n",
        "    if number_of_positives < 70:\n",
        "      #top_bboxes = list_of_boundingboxes\n",
        "      #top_tparams = list_of_t_params\n",
        "      #top_gt_bboxes = list_of_gt_boundingboxes\n",
        "      #top_classes = list_of_gt_classes\n",
        "      indexes_of_positives.append(len(list_of_boundingboxes))\n",
        "      background_bboxes = list_of_boundingboxes_background[0:70-len(list_of_boundingboxes)]\n",
        "      #total_classes_gt_pos.extend(torch.zeros(0:70-len(list_of_boundingboxes)))\n",
        "      \n",
        "    else:\n",
        "        background_bboxes = list_of_boundingboxes\n",
        "\n",
        "    all_images_list_of_boundingboxes.append(torch.stack(list_of_boundingboxes).cuda()) \n",
        "    all_images_list_of_boundingboxes_background.append(torch.stack(background_bboxes).cuda()) \n",
        "    all_images_list_of_gt_boundingboxes.append(torch.stack(list_of_gt_boundingboxes).cuda())\n",
        "\n",
        "    all_images_list_of_t_params.append(torch.stack(list_of_t_params).cuda())\n",
        "    all_images_list_of_gt_classes.append(torch.stack(list_of_gt_classes).cuda())\n",
        "    break\n",
        "\n",
        "  \"\"\"Getting the ROI align for both the background boxes and non-background boxes\"\"\"\n",
        "  test = torchvision.ops.roi_align(backout[0].cuda(), all_images_list_of_boundingboxes, (7,7), spatial_scale=1.0/4.0, sampling_ratio=-1)\n",
        "  test2 = torchvision.ops.roi_align(backout[0].cuda(), all_images_list_of_boundingboxes_background, (7,7), spatial_scale=1.0/4.0, sampling_ratio=-1)\n",
        "  total_features = torch.cat([test, test2])\n",
        "      \n",
        "  #you dont need to make your own one hot encodings since Cross entropy takes a vector of predictions, and a value of target\n",
        "  c = total_features.view(total_features.size(0), -1)\n",
        "  classification, regression = net(c.cuda())\n",
        "      \n",
        "  total_t_params = torch.cat(all_images_list_of_t_params)\n",
        "  total_classes_gt_pos = torch.cat(all_images_list_of_gt_classes)\n",
        "  \n",
        "  \"\"\"classes for background + nonbackground\"\"\"\n",
        "  total_pos_and_neg = torch.cat([total_classes_gt_pos.double(),torch.zeros(70*elem[0].shape[0]-total_classes_gt_pos.shape[0]).double().cuda()])\n",
        "  optimizer.zero_grad()\n",
        "\n",
        "  \"\"\"We only care about the regressions for the non-background boxes\"\"\"\n",
        "  regressed = regression[0:total_classes_gt_pos.shape[0]]\n",
        "\n",
        "  \"\"\"indexing into the correct four values for that class\"\"\"\n",
        "  indices =  torch.stack([torch.arange(l*4,((l+1)*4)) for l in torch.tensor(total_classes_gt_pos.tolist()).cuda().type(torch.cuda.LongTensor)])\n",
        "  regressor_bboxes = torch.gather(regressed.cuda(), 1, indices.type(torch.cuda.LongTensor))\n",
        "\n",
        "  classifier_nonbk = classification[0:total_classes_gt_pos.shape[0]]\n",
        "  vals, indexes = torch.max(classifier_nonbk, axis=1)\n",
        "  indexes_classes_predicted_nonbk = indexes.type(torch.cuda.LongTensor)\n",
        "  gt_classes_nonbk = total_pos_and_neg[0:total_classes_gt_pos.shape[0]].type(torch.cuda.LongTensor)\n",
        "\n",
        "  print(indexes_classes_predicted_nonbk.shape, gt_classes_nonbk.shape, classifier_nonbk.shape)\n",
        "  a = indexes_classes_predicted_nonbk[indexes_classes_predicted_nonbk == gt_classes_nonbk]\n",
        "  b = regressor_bboxes[indexes_classes_predicted_nonbk == gt_classes_nonbk]\n",
        "  d = all_images_list_of_boundingboxes[0][indexes_classes_predicted_nonbk == gt_classes_nonbk]\n",
        "  \"\"\"Remember, d is in normal bounding box coordinates whereas b is in t parametrized form\"\"\"\n",
        "  if b.shape[0] > 0:\n",
        "    t_x, t_y, t_w, t_h = b[0].data.cpu()\n",
        "    x,y,x2,y2 = d[0]\n",
        "    x_t, y_t, x2_t, y2_t = t_param_to_topleft_topright(t_x, t_y, t_w, t_h, x,y,x2,y2)\n",
        "    display_list_of_boxes(elem[0][0].permute((1,2,0)), [[x_t, y_t, x2_t, y2_t], [x,y,x2,y2]], ['r', 'b'])\n",
        "  break\n",
        "  #print(classifier_nonbk.shape, regressor_bboxes.shape, total_pos_and_neg[0:total_classes_gt_pos.shape[0]].type(torch.LongTensor).cuda(), \"test\")\n"
      ],
      "execution_count": 131,
      "outputs": [
        {
          "output_type": "stream",
          "text": [
            "/usr/local/lib/python3.6/dist-packages/ipykernel_launcher.py:11: UserWarning: Implicit dimension choice for softmax has been deprecated. Change the call to include dim=X as an argument.\n",
            "  # This is added back by InteractiveShellApp.init_path()\n",
            "Clipping input data to the valid range for imshow with RGB data ([0..1] for floats or [0..255] for integers).\n"
          ],
          "name": "stderr"
        },
        {
          "output_type": "stream",
          "text": [
            "torch.Size([17]) torch.Size([17]) torch.Size([17, 4])\n"
          ],
          "name": "stdout"
        },
        {
          "output_type": "display_data",
          "data": {
            "image/png": "[encoded data removed]",
            "text/plain": [
              "<Figure size 432x288 with 1 Axes>"
            ]
          },
          "metadata": {
            "tags": []
          }
        }
      ]
    },
    {
      "cell_type": "code",
      "metadata": {
        "id": "PT0MU6u3KkCo",
        "colab_type": "code",
        "colab": {}
      },
      "source": [
        "def display_list_of_boxes(image, list_of_boxes,  colors, wh = True):\n",
        "  plt.figure()\n",
        "  plt.imshow(image)\n",
        "  ax = plt.gca()\n",
        "\n",
        "  for i in range(len(list_of_boxes)):\n",
        "    \n",
        "         \n",
        "      box_values = list_of_boxes[i]\n",
        "\n",
        "      if not wh:\n",
        "        x, y, x2, y2 = box_values\n",
        "        w = x2-x\n",
        "        h = y2-y\n",
        "      else:\n",
        "        x, y, w, h = box_values\n",
        "        \n",
        "      rect = Rectangle((x, y), w, h, color = colors[i], fill=False, linewidth=3)\n",
        "\n",
        "      ax.add_patch(rect)\n",
        "\n",
        "plt.show()"
      ],
      "execution_count": 0,
      "outputs": []
    },
    {
      "cell_type": "code",
      "metadata": {
        "id": "gVEwd1P0Xcrm",
        "colab_type": "code",
        "outputId": "84e97c00-08b6-45f0-d3dd-6d291c80029e",
        "colab": {
          "base_uri": "https://localhost:8080/",
          "height": 202
        }
      },
      "source": [
        "regressor_bboxes = torch.gather(\n",
        "            reg_out[:n_pos_proposals], 1, \n",
        "            torch.stack([torch.arange(l*4,((l+1)*4)) for l in sel_pos_labels]).cuda())"
      ],
      "execution_count": 109,
      "outputs": [
        {
          "output_type": "error",
          "ename": "NameError",
          "evalue": "ignored",
          "traceback": [
            "\u001b[0;31m---------------------------------------------------------------------------\u001b[0m",
            "\u001b[0;31mNameError\u001b[0m                                 Traceback (most recent call last)",
            "\u001b[0;32m<ipython-input-109-e68e26e5146a>\u001b[0m in \u001b[0;36m<module>\u001b[0;34m()\u001b[0m\n\u001b[1;32m      1\u001b[0m regressor_bboxes = torch.gather(\n\u001b[0;32m----> 2\u001b[0;31m             \u001b[0mreg_out\u001b[0m\u001b[0;34m[\u001b[0m\u001b[0;34m:\u001b[0m\u001b[0mn_pos_proposals\u001b[0m\u001b[0;34m]\u001b[0m\u001b[0;34m,\u001b[0m \u001b[0;36m1\u001b[0m\u001b[0;34m,\u001b[0m\u001b[0;34m\u001b[0m\u001b[0;34m\u001b[0m\u001b[0m\n\u001b[0m\u001b[1;32m      3\u001b[0m             torch.stack([torch.arange(l*4,((l+1)*4)) for l in sel_pos_labels]).cuda())\n",
            "\u001b[0;31mNameError\u001b[0m: name 'reg_out' is not defined"
          ]
        }
      ]
    },
    {
      "cell_type": "code",
      "metadata": {
        "id": "b2f0duJ89EOq",
        "colab_type": "code",
        "colab": {}
      },
      "source": [
        "torch.cuda.empty_cache()"
      ],
      "execution_count": 0,
      "outputs": []
    },
    {
      "cell_type": "code",
      "metadata": {
        "id": "0AlItGjE9HfK",
        "colab_type": "code",
        "colab": {}
      },
      "source": [
        "!/opt/bin/nvidia-smi"
      ],
      "execution_count": 0,
      "outputs": []
    },
    {
      "cell_type": "code",
      "metadata": {
        "id": "-5v-0IefOILp",
        "colab_type": "code",
        "colab": {}
      },
      "source": [
        "print(list_of_featuremaps[0].shape)\n",
        "print(list_of_boundingboxes)\n",
        "print(list_of_gt_masks)\n",
        "print(list_of_gt_boundingboxes)"
      ],
      "execution_count": 0,
      "outputs": []
    },
    {
      "cell_type": "markdown",
      "metadata": {
        "id": "zDRbZRAsh7km",
        "colab_type": "text"
      },
      "source": [
        "# Model Definition\n",
        "\n",
        "Define the four models"
      ]
    },
    {
      "cell_type": "code",
      "metadata": {
        "id": "auuQRjUIh_5Z",
        "colab_type": "code",
        "colab": {}
      },
      "source": [
        "class ROIAlign(torch.nn.Module):\n",
        "  def __init__(self):\n",
        "    super().__init__()\n",
        "    \n",
        "  def forward(self, X):\n",
        "    return None\n",
        "\n",
        "class Classifier(torch.nn.Module):\n",
        "  def __init__(self):\n",
        "    super().__init__()\n",
        "    \n",
        "  def forward(self, X):\n",
        "    return None\n",
        "\n",
        "class Regressor(torch.nn.Module):\n",
        "  def __init__(self):\n",
        "    super().__init__()\n",
        "    \n",
        "  def forward(self, X):\n",
        "    return None\n",
        "\n",
        "class Masks(torch.nn.Module):\n",
        "  def __init__(self):\n",
        "    super().__init__()\n",
        "    \n",
        "  def forward(self, X):\n",
        "    return None"
      ],
      "execution_count": 0,
      "outputs": []
    },
    {
      "cell_type": "markdown",
      "metadata": {
        "id": "EvNh3B3FiAPY",
        "colab_type": "text"
      },
      "source": [
        "# Train your network\n",
        "\n",
        "It might be good to save checkpoints and reload from the most recent. This is due to time constraints inside of colab."
      ]
    },
    {
      "cell_type": "code",
      "metadata": {
        "id": "hQuOI_n_iEiF",
        "colab_type": "code",
        "colab": {}
      },
      "source": [
        ""
      ],
      "execution_count": 0,
      "outputs": []
    },
    {
      "cell_type": "markdown",
      "metadata": {
        "id": "mSyobxVWqBMA",
        "colab_type": "text"
      },
      "source": [
        "# Test your network\n",
        "\n",
        "Did you remember to cut out a test set? If not you really should, test on images your network has never seen."
      ]
    },
    {
      "cell_type": "code",
      "metadata": {
        "id": "6c0SdpUjqJ88",
        "colab_type": "code",
        "colab": {}
      },
      "source": [
        ""
      ],
      "execution_count": 0,
      "outputs": []
    }
  ]
}