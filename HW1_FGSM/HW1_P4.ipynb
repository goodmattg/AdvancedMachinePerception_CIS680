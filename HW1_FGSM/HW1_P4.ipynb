{
  "nbformat": 4,
  "nbformat_minor": 0,
  "metadata": {
    "colab": {
      "name": "HW1_P4",
      "provenance": [],
      "collapsed_sections": []
    },
    "kernelspec": {
      "name": "python3",
      "display_name": "Python 3"
    },
    "accelerator": "GPU"
  },
  "cells": [
    {
      "cell_type": "code",
      "metadata": {
        "id": "gu9LBtXbEnbW",
        "colab_type": "code",
        "outputId": "0cfb59f3-e02f-4f01-9834-48abf54e1020",
        "colab": {
          "base_uri": "https://localhost:8080/",
          "height": 122
        }
      },
      "source": [
        "# %matplotlib inline\n",
        "import torch\n",
        "import numpy as np\n",
        "import torch.nn as nn\n",
        "import torch.optim as optim\n",
        "from google.colab import files\n",
        "from google.colab import drive\n",
        "drive.mount('/content/gdrive')\n",
        "\n",
        "import torchvision\n",
        "import torchvision.transforms as transforms\n",
        "from matplotlib import cm\n",
        "\n",
        "from torch.nn import Conv2d, AvgPool2d, BatchNorm2d, BatchNorm1d\n",
        "import torch.nn.functional as F\n",
        "from torchsummary import summary\n",
        "import os\n",
        "import matplotlib.pyplot as plt"
      ],
      "execution_count": 1,
      "outputs": [
        {
          "output_type": "stream",
          "text": [
            "Go to this URL in a browser: https://accounts.google.com/o/oauth2/auth?client_id=947318989803-6bn6qk8qdgf4n4g3pfee6491hc0brc4i.apps.googleusercontent.com&redirect_uri=urn%3Aietf%3Awg%3Aoauth%3A2.0%3Aoob&scope=email%20https%3A%2F%2Fwww.googleapis.com%2Fauth%2Fdocs.test%20https%3A%2F%2Fwww.googleapis.com%2Fauth%2Fdrive%20https%3A%2F%2Fwww.googleapis.com%2Fauth%2Fdrive.photos.readonly%20https%3A%2F%2Fwww.googleapis.com%2Fauth%2Fpeopleapi.readonly&response_type=code\n",
            "\n",
            "Enter your authorization code:\n",
            "··········\n",
            "Mounted at /content/gdrive\n"
          ],
          "name": "stdout"
        }
      ]
    },
    {
      "cell_type": "code",
      "metadata": {
        "id": "XlA1iyNCxC1r",
        "colab_type": "code",
        "colab": {}
      },
      "source": [
        "from torch.autograd import Variable\n",
        "from torch.utils.data import DataLoader"
      ],
      "execution_count": 0,
      "outputs": []
    },
    {
      "cell_type": "code",
      "metadata": {
        "id": "BmPwcVLiGkFh",
        "colab_type": "code",
        "outputId": "3df324a3-b0f8-48c9-fd85-63a1966ba423",
        "colab": {
          "base_uri": "https://localhost:8080/",
          "height": 34
        }
      },
      "source": [
        "USE_CUDA = True\n",
        "DEVICE = torch.device(\"cuda\" if (USE_CUDA and torch.cuda.is_available()) else \"cpu\")\n",
        "print(\"Using device: {}\".format(DEVICE))"
      ],
      "execution_count": 3,
      "outputs": [
        {
          "output_type": "stream",
          "text": [
            "Using device: cuda\n"
          ],
          "name": "stdout"
        }
      ]
    },
    {
      "cell_type": "code",
      "metadata": {
        "id": "pa77ZmeMEr4W",
        "colab_type": "code",
        "outputId": "2eec95f5-968e-4b24-e260-91b1652c5801",
        "colab": {
          "base_uri": "https://localhost:8080/",
          "height": 275
        }
      },
      "source": [
        "transform = transforms.Compose(\n",
        "    [transforms.ToTensor(),\n",
        "     transforms.Normalize((0.5,), (0.5,))])\n",
        "\n",
        "trainset = torchvision.datasets.MNIST(root='./data', train=True,\n",
        "                                        download=True, transform=transform)\n",
        "\n",
        "trainloader = torch.utils.data.DataLoader(trainset, batch_size=64,\n",
        "                                          shuffle=True, num_workers=2)\n",
        "\n",
        "testset = torchvision.datasets.MNIST(root='./data', train=False,\n",
        "                                       download=True, transform=transform)\n",
        "\n",
        "testloader = torch.utils.data.DataLoader(testset, batch_size=2,\n",
        "                                         shuffle=False, num_workers=2)\n"
      ],
      "execution_count": 4,
      "outputs": [
        {
          "output_type": "stream",
          "text": [
            "\r0it [00:00, ?it/s]"
          ],
          "name": "stderr"
        },
        {
          "output_type": "stream",
          "text": [
            "Downloading http://yann.lecun.com/exdb/mnist/train-images-idx3-ubyte.gz to ./data/MNIST/raw/train-images-idx3-ubyte.gz\n"
          ],
          "name": "stdout"
        },
        {
          "output_type": "stream",
          "text": [
            "9920512it [00:02, 3665690.98it/s]                             \n"
          ],
          "name": "stderr"
        },
        {
          "output_type": "stream",
          "text": [
            "Extracting ./data/MNIST/raw/train-images-idx3-ubyte.gz\n"
          ],
          "name": "stdout"
        },
        {
          "output_type": "stream",
          "text": [
            "\r0it [00:00, ?it/s]"
          ],
          "name": "stderr"
        },
        {
          "output_type": "stream",
          "text": [
            "Downloading http://yann.lecun.com/exdb/mnist/train-labels-idx1-ubyte.gz to ./data/MNIST/raw/train-labels-idx1-ubyte.gz\n"
          ],
          "name": "stdout"
        },
        {
          "output_type": "stream",
          "text": [
            "32768it [00:00, 58378.14it/s]                           \n",
            "0it [00:00, ?it/s]"
          ],
          "name": "stderr"
        },
        {
          "output_type": "stream",
          "text": [
            "Extracting ./data/MNIST/raw/train-labels-idx1-ubyte.gz\n",
            "Downloading http://yann.lecun.com/exdb/mnist/t10k-images-idx3-ubyte.gz to ./data/MNIST/raw/t10k-images-idx3-ubyte.gz\n"
          ],
          "name": "stdout"
        },
        {
          "output_type": "stream",
          "text": [
            "1654784it [00:03, 538027.08it/s]                             \n",
            "0it [00:00, ?it/s]"
          ],
          "name": "stderr"
        },
        {
          "output_type": "stream",
          "text": [
            "Extracting ./data/MNIST/raw/t10k-images-idx3-ubyte.gz\n",
            "Downloading http://yann.lecun.com/exdb/mnist/t10k-labels-idx1-ubyte.gz to ./data/MNIST/raw/t10k-labels-idx1-ubyte.gz\n"
          ],
          "name": "stdout"
        },
        {
          "output_type": "stream",
          "text": [
            "8192it [00:00, 21739.32it/s]            "
          ],
          "name": "stderr"
        },
        {
          "output_type": "stream",
          "text": [
            "Extracting ./data/MNIST/raw/t10k-labels-idx1-ubyte.gz\n",
            "Processing...\n",
            "Done!\n"
          ],
          "name": "stdout"
        },
        {
          "output_type": "stream",
          "text": [
            "\n"
          ],
          "name": "stderr"
        }
      ]
    },
    {
      "cell_type": "code",
      "metadata": {
        "id": "0qAJKZ0aE1ZU",
        "colab_type": "code",
        "outputId": "14c2ed6b-4ed1-496f-e880-e15745b85574",
        "colab": {
          "base_uri": "https://localhost:8080/",
          "height": 303
        }
      },
      "source": [
        "dataiter = iter(trainloader)\n",
        "images, labels = dataiter.next()\n",
        "\n",
        "def imshow(img):\n",
        "    img = img / 2 + 0.5     # unnormalize\n",
        "    plt.imshow(np.transpose(img[0], (0, 1)), cmap=cm.viridis)\n",
        "    plt.show()\n",
        "    return\n",
        "\n",
        "# show images\n",
        "print(images.shape)\n",
        "imshow(torchvision.utils.make_grid(images).numpy())\n",
        "# print labels\n",
        "print(' '.join('%5s' % labels[j].item() for j in range(10)))"
      ],
      "execution_count": 5,
      "outputs": [
        {
          "output_type": "stream",
          "text": [
            "torch.Size([64, 1, 28, 28])\n"
          ],
          "name": "stdout"
        },
        {
          "output_type": "display_data",
          "data": {
            "image/png": "[encoded data removed]",
            "text/plain": [
              "<Figure size 432x288 with 1 Axes>"
            ]
          },
          "metadata": {
            "tags": []
          }
        },
        {
          "output_type": "stream",
          "text": [
            "    7     6     7     4     9     9     0     3     1     3\n"
          ],
          "name": "stdout"
        }
      ]
    },
    {
      "cell_type": "code",
      "metadata": {
        "id": "6excJuqPE5RK",
        "colab_type": "code",
        "colab": {}
      },
      "source": [
        "class ConvNet(torch.nn.Module):\n",
        "  def __init__(self):\n",
        "      super(ConvNet, self).__init__()\n",
        "      self.conv1 = nn.Conv2d(1, 32, kernel_size=5, padding=5//2)\n",
        "      self.conv1_bn = BatchNorm2d(32)\n",
        "      self.pool1 = nn.AvgPool2d(2, stride=2, padding=0)\n",
        "      self.conv2 = nn.Conv2d(32, 32, kernel_size=5, padding=5//2)\n",
        "      self.conv2_bn = BatchNorm2d(32)\n",
        "      self.pool2 = nn.AvgPool2d(2, stride=2, padding=0)\n",
        "      self.conv3 = nn.Conv2d(32, 64, kernel_size=5, padding=5//2)\n",
        "      self.conv3_bn = BatchNorm2d(64)\n",
        "      self.pool3 = nn.AvgPool2d(2, stride=2, padding=0)\n",
        "      self.fcn1 = nn.Linear(576, 64)\n",
        "      self.fcn1_bn = BatchNorm1d(64)\n",
        "      self.fcn2 = nn.Linear(64, 10)\n",
        "\n",
        "  def forward(self, x):\n",
        "      x = F.relu(self.conv1_bn(self.conv1(x)))\n",
        "      x = self.pool1(x)\n",
        "      x = F.relu(self.conv2_bn(self.conv2(x)))\n",
        "      x = self.pool2(x)\n",
        "      x = F.relu(self.conv3_bn(self.conv3(x)))\n",
        "      x = self.pool3(x)\n",
        "      x = x.view(x.size(0), -1)\n",
        "      x = F.relu(self.fcn1_bn(self.fcn1(x)))\n",
        "      x = self.fcn2(x)\n",
        "      return F.softmax(x, dim=0)"
      ],
      "execution_count": 0,
      "outputs": []
    },
    {
      "cell_type": "code",
      "metadata": {
        "id": "2NCG9WmZE7fU",
        "colab_type": "code",
        "outputId": "6d0ff424-d361-4fa8-f203-9ff0483945b4",
        "colab": {
          "base_uri": "https://localhost:8080/",
          "height": 459
        }
      },
      "source": [
        "PATH = os.getcwd() + '/gdrive/My Drive/Colab Notebooks/CIS680/HW1/conv_net.pt'\n",
        "LOADED_SAVED_MODEL = False\n",
        "\n",
        "net = ConvNet()\n",
        "\n",
        "try:\n",
        "  net.load_state_dict(torch.load(PATH))\n",
        "  print(\"Saved model weights loaded\")\n",
        "  LOADED_SAVED_MODEL = True\n",
        "except:\n",
        "  print(\"Saved model not found\")\n",
        "\n",
        "if torch.cuda.is_available():\n",
        "  net.cuda()\n",
        "\n",
        "summary(net, (1, 28, 28))\n",
        "\n",
        "criterion = nn.CrossEntropyLoss()\n",
        "optimizer = optim.Adam(net.parameters(), lr=0.001)"
      ],
      "execution_count": 7,
      "outputs": [
        {
          "output_type": "stream",
          "text": [
            "Saved model weights loaded\n",
            "----------------------------------------------------------------\n",
            "        Layer (type)               Output Shape         Param #\n",
            "================================================================\n",
            "            Conv2d-1           [-1, 32, 28, 28]             832\n",
            "       BatchNorm2d-2           [-1, 32, 28, 28]              64\n",
            "         AvgPool2d-3           [-1, 32, 14, 14]               0\n",
            "            Conv2d-4           [-1, 32, 14, 14]          25,632\n",
            "       BatchNorm2d-5           [-1, 32, 14, 14]              64\n",
            "         AvgPool2d-6             [-1, 32, 7, 7]               0\n",
            "            Conv2d-7             [-1, 64, 7, 7]          51,264\n",
            "       BatchNorm2d-8             [-1, 64, 7, 7]             128\n",
            "         AvgPool2d-9             [-1, 64, 3, 3]               0\n",
            "           Linear-10                   [-1, 64]          36,928\n",
            "      BatchNorm1d-11                   [-1, 64]             128\n",
            "           Linear-12                   [-1, 10]             650\n",
            "================================================================\n",
            "Total params: 115,690\n",
            "Trainable params: 115,690\n",
            "Non-trainable params: 0\n",
            "----------------------------------------------------------------\n",
            "Input size (MB): 0.00\n",
            "Forward/backward pass size (MB): 0.59\n",
            "Params size (MB): 0.44\n",
            "Estimated Total Size (MB): 1.04\n",
            "----------------------------------------------------------------\n"
          ],
          "name": "stdout"
        }
      ]
    },
    {
      "cell_type": "code",
      "metadata": {
        "id": "B3Ns-Lr7FCJI",
        "colab_type": "code",
        "outputId": "7fc835e4-ac77-4128-b805-33d7a647d2f9",
        "colab": {
          "base_uri": "https://localhost:8080/",
          "height": 34
        }
      },
      "source": [
        "if not LOADED_SAVED_MODEL:\n",
        "  \n",
        "  for epoch in range(5):  # loop over the dataset multiple times\n",
        "\n",
        "      running_loss = 0.0\n",
        "      for i, data in enumerate(trainloader, 0):\n",
        "          # get the inputs; data is a list of [inputs, labels]\n",
        "          inputs, labels = data\n",
        "\n",
        "          inputs = inputs.cuda()\n",
        "          labels = labels.cuda()\n",
        "\n",
        "          # zero the parameter gradients\n",
        "          optimizer.zero_grad()\n",
        "\n",
        "          # forward + backward + optimize\n",
        "          outputs = net(inputs)\n",
        "          loss = criterion(outputs, labels)\n",
        "          loss.backward()\n",
        "          optimizer.step()\n",
        "\n",
        "          # print statistics\n",
        "          running_loss += loss.item()\n",
        "          if i % 250 == 249:    # print every 249 mini-batches\n",
        "              print('[%d, %5d] loss: %.3f' %\n",
        "                    (epoch + 1, i + 1, running_loss / 250))\n",
        "              running_loss = 0.0\n",
        "\n",
        "  print('Finished Training')\n",
        "else:\n",
        "  print(\"Using pre-trained model\")"
      ],
      "execution_count": 0,
      "outputs": [
        {
          "output_type": "stream",
          "text": [
            "Using pre-trained model\n"
          ],
          "name": "stdout"
        }
      ]
    },
    {
      "cell_type": "code",
      "metadata": {
        "id": "ODUECnJOe33d",
        "colab_type": "code",
        "colab": {}
      },
      "source": [
        "MAX_ATTACKS_ON_BATCH = 2"
      ],
      "execution_count": 0,
      "outputs": []
    },
    {
      "cell_type": "code",
      "metadata": {
        "id": "wGiy8kNkGB1i",
        "colab_type": "code",
        "colab": {}
      },
      "source": [
        "def attack(image, epsilon, data_grad):\n",
        "  \n",
        "    sign_data_grad = data_grad.sign()\n",
        "    \n",
        "    # Non-decreasing I_perturbed constraint\n",
        "    sign_data_grad = torch.clamp(sign_data_grad, min=0.)\n",
        "    \n",
        "    img_pet = image + epsilon*sign_data_grad\n",
        "    \n",
        "    # General image value constraint (-1, 1)\n",
        "    img_pet = torch.clamp(img_pet, -1., 1.)\n",
        "\n",
        "    return img_pet"
      ],
      "execution_count": 0,
      "outputs": []
    },
    {
      "cell_type": "code",
      "metadata": {
        "id": "xVQ1iVGbGcMI",
        "colab_type": "code",
        "colab": {}
      },
      "source": [
        "def test(model, device, test_loader, epsilon, save_images=False, nsave=5):\n",
        "\n",
        "    # Accuracy counter\n",
        "    correct = 0\n",
        "    adv_examples = []\n",
        "\n",
        "    # Loop over all examples in test set\n",
        "    for data, target in test_loader:\n",
        "\n",
        "        data, target = data.to(device), target.to(device)\n",
        "        data.requires_grad = True\n",
        "\n",
        "        feed_data = data\n",
        "        n_attacks = 0\n",
        "        \n",
        "        while n_attacks < MAX_ATTACKS_ON_BATCH:\n",
        "        \n",
        "          output = model(feed_data)                       \n",
        "          init_conf, init_pred = output.max(1)\n",
        "\n",
        "          loss = F.nll_loss(output, target) # Loss\n",
        "\n",
        "          model.zero_grad() # zero grads\n",
        "\n",
        "          loss.backward()\n",
        "\n",
        "          data_grad = data.grad.data # get I_pet grad\n",
        "\n",
        "          perturbed_data = attack(feed_data, epsilon, data_grad) # attack\n",
        "\n",
        "          output = model(perturbed_data)\n",
        "          final_conf, final_pred = output.max(1)\n",
        "          \n",
        "          # STOPPING CRITERIA. \n",
        "          high_conf_flips = (\n",
        "              (torch.eq(init_pred, target) == 1) & # initial pred. right\n",
        "              (torch.eq(final_pred, target) == 0) & # final pred. wrong\n",
        "              (final_conf > 0.9)).nonzero() # confidence on final >90%\n",
        " \n",
        "          # The number of flips with high confidence (>90%)\n",
        "          n_hconf = high_conf_flips.view(-1).size(0)\n",
        "\n",
        "          if n_hconf > 0:\n",
        "            break\n",
        "          else:\n",
        "            feed_data = perturbed_data.detach()\n",
        "            n_attacks += 1\n",
        "        \n",
        "        # Compute the batch accuracy\n",
        "        correct_in_minibatch = torch.eq(final_pred, target).sum().item()\n",
        "        correct += correct_in_minibatch\n",
        "\n",
        "        # FANCY SAVING for report\n",
        "        if save_images:\n",
        "          if len(adv_examples) < nsave:\n",
        "            \n",
        "            # Pick a sample from the batch meeting the stopping criteria above\n",
        "            flipped_preds = (\n",
        "                (torch.eq(init_pred, target) == 1) &\n",
        "                (torch.eq(final_pred, target) == 0)&\n",
        "                (final_conf > 0.9)).nonzero().view(-1)\n",
        "            \n",
        "            if flipped_preds.size(0) == 0:\n",
        "              continue\n",
        "            \n",
        "            # Multiple flips per-minibatch. Pick 1 randomly.\n",
        "            idx = torch.randint(0, flipped_preds.size(0), (1,))\n",
        "            selx = flipped_preds[idx]\n",
        "            \n",
        "            # Store the original (image.)\n",
        "            original_ex = data[selx].squeeze().detach().cpu().numpy()\n",
        "            # Store the flipped (adver.) image\n",
        "            flipped_ex = perturbed_data[selx].squeeze().detach().cpu().numpy()\n",
        "            # Store the flipped initial prediction\n",
        "            init_pred_ex = init_pred[selx].item()\n",
        "            # Store the flipped final prediction\n",
        "            final_pred_ex = final_pred[selx].item() \n",
        "            # Store the flipped final prediction confidence\n",
        "            final_conf_ex = final_conf[selx].item() \n",
        "            # Save it all\n",
        "            adv_examples.append((\n",
        "                init_pred_ex,\n",
        "                final_pred_ex,\n",
        "                final_conf_ex,\n",
        "                flipped_ex,\n",
        "                original_ex))\n",
        "\n",
        "    # Calculate final accuracy for this epsilon\n",
        "    final_acc = correct / (float(len(test_loader) * test_loader.batch_size))\n",
        "    print(\"Epsilon: {} | Test Acc. = {}\".format(epsilon, final_acc))\n",
        "\n",
        "    # Return the accuracy and an adversarial example\n",
        "    return final_acc, adv_examples"
      ],
      "execution_count": 0,
      "outputs": []
    },
    {
      "cell_type": "code",
      "metadata": {
        "id": "xbm6WaaXG_C0",
        "colab_type": "code",
        "outputId": "649948c5-552c-4392-c345-eee3dee8216e",
        "colab": {
          "base_uri": "https://localhost:8080/",
          "height": 596
        }
      },
      "source": [
        "# Not included, but epsilon = 0 is just test accuracy\n",
        "epsilons = [0.1, 0.4, 0.5]\n",
        "accuracies = []\n",
        "examples = None\n",
        "\n",
        "# Run test for each epsilon\n",
        "for eps in epsilons:\n",
        "    # Only save images for epsilon 0.2 (for report)\n",
        "    if eps == 0.4:\n",
        "      acc, ex = test(net, DEVICE, testloader, eps, save_images=True)\n",
        "      examples = ex\n",
        "    else:\n",
        "      acc, _ = test(net, DEVICE, testloader, eps, save_images=False)\n",
        "      \n",
        "    accuracies.append(acc)"
      ],
      "execution_count": 37,
      "outputs": [
        {
          "output_type": "stream",
          "text": [
            "> <ipython-input-36-2c76e49ecdad>(17)test()\n",
            "-> while n_attacks < MAX_ATTACKS_ON_BATCH:\n",
            "(Pdb) target.requires_grad\n",
            "False\n",
            "(Pdb) data.shape\n",
            "torch.Size([2, 1, 28, 28])\n",
            "(Pdb) feed_data.shape\n",
            "torch.Size([2, 1, 28, 28])\n",
            "(Pdb) data.requires_grad\n",
            "True\n",
            "(Pdb) feed_data.requires_grad\n",
            "True\n",
            "(Pdb) q\n"
          ],
          "name": "stdout"
        },
        {
          "output_type": "error",
          "ename": "BdbQuit",
          "evalue": "ignored",
          "traceback": [
            "\u001b[0;31m---------------------------------------------------------------------------\u001b[0m",
            "\u001b[0;31mBdbQuit\u001b[0m                                   Traceback (most recent call last)",
            "\u001b[0;32m<ipython-input-37-59e7ec7d5cbc>\u001b[0m in \u001b[0;36m<module>\u001b[0;34m()\u001b[0m\n\u001b[1;32m     10\u001b[0m       \u001b[0mexamples\u001b[0m \u001b[0;34m=\u001b[0m \u001b[0mex\u001b[0m\u001b[0;34m\u001b[0m\u001b[0;34m\u001b[0m\u001b[0m\n\u001b[1;32m     11\u001b[0m     \u001b[0;32melse\u001b[0m\u001b[0;34m:\u001b[0m\u001b[0;34m\u001b[0m\u001b[0;34m\u001b[0m\u001b[0m\n\u001b[0;32m---> 12\u001b[0;31m       \u001b[0macc\u001b[0m\u001b[0;34m,\u001b[0m \u001b[0m_\u001b[0m \u001b[0;34m=\u001b[0m \u001b[0mtest\u001b[0m\u001b[0;34m(\u001b[0m\u001b[0mnet\u001b[0m\u001b[0;34m,\u001b[0m \u001b[0mDEVICE\u001b[0m\u001b[0;34m,\u001b[0m \u001b[0mtestloader\u001b[0m\u001b[0;34m,\u001b[0m \u001b[0meps\u001b[0m\u001b[0;34m,\u001b[0m \u001b[0msave_images\u001b[0m\u001b[0;34m=\u001b[0m\u001b[0;32mFalse\u001b[0m\u001b[0;34m)\u001b[0m\u001b[0;34m\u001b[0m\u001b[0;34m\u001b[0m\u001b[0m\n\u001b[0m\u001b[1;32m     13\u001b[0m \u001b[0;34m\u001b[0m\u001b[0m\n\u001b[1;32m     14\u001b[0m     \u001b[0maccuracies\u001b[0m\u001b[0;34m.\u001b[0m\u001b[0mappend\u001b[0m\u001b[0;34m(\u001b[0m\u001b[0macc\u001b[0m\u001b[0;34m)\u001b[0m\u001b[0;34m\u001b[0m\u001b[0;34m\u001b[0m\u001b[0m\n",
            "\u001b[0;32m<ipython-input-36-2c76e49ecdad>\u001b[0m in \u001b[0;36mtest\u001b[0;34m(model, device, test_loader, epsilon, save_images, nsave)\u001b[0m\n\u001b[1;32m     15\u001b[0m         \u001b[0;32mimport\u001b[0m \u001b[0mpdb\u001b[0m\u001b[0;34m;\u001b[0m \u001b[0mpdb\u001b[0m\u001b[0;34m.\u001b[0m\u001b[0mset_trace\u001b[0m\u001b[0;34m(\u001b[0m\u001b[0;34m)\u001b[0m\u001b[0;34m\u001b[0m\u001b[0;34m\u001b[0m\u001b[0m\n\u001b[1;32m     16\u001b[0m \u001b[0;34m\u001b[0m\u001b[0m\n\u001b[0;32m---> 17\u001b[0;31m         \u001b[0;32mwhile\u001b[0m \u001b[0mn_attacks\u001b[0m \u001b[0;34m<\u001b[0m \u001b[0mMAX_ATTACKS_ON_BATCH\u001b[0m\u001b[0;34m:\u001b[0m\u001b[0;34m\u001b[0m\u001b[0;34m\u001b[0m\u001b[0m\n\u001b[0m\u001b[1;32m     18\u001b[0m \u001b[0;34m\u001b[0m\u001b[0m\n\u001b[1;32m     19\u001b[0m           \u001b[0moutput\u001b[0m \u001b[0;34m=\u001b[0m \u001b[0mmodel\u001b[0m\u001b[0;34m(\u001b[0m\u001b[0mfeed_data\u001b[0m\u001b[0;34m)\u001b[0m\u001b[0;34m\u001b[0m\u001b[0;34m\u001b[0m\u001b[0m\n",
            "\u001b[0;32m<ipython-input-36-2c76e49ecdad>\u001b[0m in \u001b[0;36mtest\u001b[0;34m(model, device, test_loader, epsilon, save_images, nsave)\u001b[0m\n\u001b[1;32m     15\u001b[0m         \u001b[0;32mimport\u001b[0m \u001b[0mpdb\u001b[0m\u001b[0;34m;\u001b[0m \u001b[0mpdb\u001b[0m\u001b[0;34m.\u001b[0m\u001b[0mset_trace\u001b[0m\u001b[0;34m(\u001b[0m\u001b[0;34m)\u001b[0m\u001b[0;34m\u001b[0m\u001b[0;34m\u001b[0m\u001b[0m\n\u001b[1;32m     16\u001b[0m \u001b[0;34m\u001b[0m\u001b[0m\n\u001b[0;32m---> 17\u001b[0;31m         \u001b[0;32mwhile\u001b[0m \u001b[0mn_attacks\u001b[0m \u001b[0;34m<\u001b[0m \u001b[0mMAX_ATTACKS_ON_BATCH\u001b[0m\u001b[0;34m:\u001b[0m\u001b[0;34m\u001b[0m\u001b[0;34m\u001b[0m\u001b[0m\n\u001b[0m\u001b[1;32m     18\u001b[0m \u001b[0;34m\u001b[0m\u001b[0m\n\u001b[1;32m     19\u001b[0m           \u001b[0moutput\u001b[0m \u001b[0;34m=\u001b[0m \u001b[0mmodel\u001b[0m\u001b[0;34m(\u001b[0m\u001b[0mfeed_data\u001b[0m\u001b[0;34m)\u001b[0m\u001b[0;34m\u001b[0m\u001b[0;34m\u001b[0m\u001b[0m\n",
            "\u001b[0;32m/usr/lib/python3.6/bdb.py\u001b[0m in \u001b[0;36mtrace_dispatch\u001b[0;34m(self, frame, event, arg)\u001b[0m\n\u001b[1;32m     49\u001b[0m             \u001b[0;32mreturn\u001b[0m \u001b[0;31m# None\u001b[0m\u001b[0;34m\u001b[0m\u001b[0;34m\u001b[0m\u001b[0m\n\u001b[1;32m     50\u001b[0m         \u001b[0;32mif\u001b[0m \u001b[0mevent\u001b[0m \u001b[0;34m==\u001b[0m \u001b[0;34m'line'\u001b[0m\u001b[0;34m:\u001b[0m\u001b[0;34m\u001b[0m\u001b[0;34m\u001b[0m\u001b[0m\n\u001b[0;32m---> 51\u001b[0;31m             \u001b[0;32mreturn\u001b[0m \u001b[0mself\u001b[0m\u001b[0;34m.\u001b[0m\u001b[0mdispatch_line\u001b[0m\u001b[0;34m(\u001b[0m\u001b[0mframe\u001b[0m\u001b[0;34m)\u001b[0m\u001b[0;34m\u001b[0m\u001b[0;34m\u001b[0m\u001b[0m\n\u001b[0m\u001b[1;32m     52\u001b[0m         \u001b[0;32mif\u001b[0m \u001b[0mevent\u001b[0m \u001b[0;34m==\u001b[0m \u001b[0;34m'call'\u001b[0m\u001b[0;34m:\u001b[0m\u001b[0;34m\u001b[0m\u001b[0;34m\u001b[0m\u001b[0m\n\u001b[1;32m     53\u001b[0m             \u001b[0;32mreturn\u001b[0m \u001b[0mself\u001b[0m\u001b[0;34m.\u001b[0m\u001b[0mdispatch_call\u001b[0m\u001b[0;34m(\u001b[0m\u001b[0mframe\u001b[0m\u001b[0;34m,\u001b[0m \u001b[0marg\u001b[0m\u001b[0;34m)\u001b[0m\u001b[0;34m\u001b[0m\u001b[0;34m\u001b[0m\u001b[0m\n",
            "\u001b[0;32m/usr/lib/python3.6/bdb.py\u001b[0m in \u001b[0;36mdispatch_line\u001b[0;34m(self, frame)\u001b[0m\n\u001b[1;32m     68\u001b[0m         \u001b[0;32mif\u001b[0m \u001b[0mself\u001b[0m\u001b[0;34m.\u001b[0m\u001b[0mstop_here\u001b[0m\u001b[0;34m(\u001b[0m\u001b[0mframe\u001b[0m\u001b[0;34m)\u001b[0m \u001b[0;32mor\u001b[0m \u001b[0mself\u001b[0m\u001b[0;34m.\u001b[0m\u001b[0mbreak_here\u001b[0m\u001b[0;34m(\u001b[0m\u001b[0mframe\u001b[0m\u001b[0;34m)\u001b[0m\u001b[0;34m:\u001b[0m\u001b[0;34m\u001b[0m\u001b[0;34m\u001b[0m\u001b[0m\n\u001b[1;32m     69\u001b[0m             \u001b[0mself\u001b[0m\u001b[0;34m.\u001b[0m\u001b[0muser_line\u001b[0m\u001b[0;34m(\u001b[0m\u001b[0mframe\u001b[0m\u001b[0;34m)\u001b[0m\u001b[0;34m\u001b[0m\u001b[0;34m\u001b[0m\u001b[0m\n\u001b[0;32m---> 70\u001b[0;31m             \u001b[0;32mif\u001b[0m \u001b[0mself\u001b[0m\u001b[0;34m.\u001b[0m\u001b[0mquitting\u001b[0m\u001b[0;34m:\u001b[0m \u001b[0;32mraise\u001b[0m \u001b[0mBdbQuit\u001b[0m\u001b[0;34m\u001b[0m\u001b[0;34m\u001b[0m\u001b[0m\n\u001b[0m\u001b[1;32m     71\u001b[0m         \u001b[0;32mreturn\u001b[0m \u001b[0mself\u001b[0m\u001b[0;34m.\u001b[0m\u001b[0mtrace_dispatch\u001b[0m\u001b[0;34m\u001b[0m\u001b[0;34m\u001b[0m\u001b[0m\n\u001b[1;32m     72\u001b[0m \u001b[0;34m\u001b[0m\u001b[0m\n",
            "\u001b[0;31mBdbQuit\u001b[0m: "
          ]
        }
      ]
    },
    {
      "cell_type": "markdown",
      "metadata": {
        "id": "oBLMIhYroZw_",
        "colab_type": "text"
      },
      "source": [
        "Images for reporting:"
      ]
    },
    {
      "cell_type": "code",
      "metadata": {
        "id": "8F06cFkVLR2O",
        "colab_type": "code",
        "outputId": "fbc79242-ba9b-498a-b763-34226490e3ca",
        "colab": {
          "base_uri": "https://localhost:8080/",
          "height": 298
        }
      },
      "source": [
        "orig_grid = np.empty([len(examples), 1, 28, 28])\n",
        "adv_grid = np.empty([len(examples), 1, 28, 28])\n",
        "\n",
        "orig_preds = [None] * len(examples)\n",
        "adver_preds = [None] * len(examples)\n",
        "adver_confs = [None] * len(examples)\n",
        "\n",
        "for i, ex in enumerate(examples):\n",
        "  orig_preds[i] = ex[0]\n",
        "  adver_preds[i] = ex[1]\n",
        "  adver_confs[i] = ex[2]\n",
        "  adv_grid[i, 0] = ex[3]\n",
        "  orig_grid[i, 0] = ex[4]\n",
        "\n",
        "orig_grid = torchvision.utils.make_grid(torch.from_numpy(orig_grid)).numpy()\n",
        "adv_grid = torchvision.utils.make_grid(torch.from_numpy(adv_grid)).numpy()\n",
        "  \n",
        "# Unnormalize for display purposes\n",
        "orig_grid = orig_grid / 2 + 0.5\n",
        "adv_grid = adv_grid / 2 + 0.5\n",
        "\n",
        "plt.figure()\n",
        "plt.imshow(np.transpose(orig_grid[0], (0, 1)), cmap=cm.viridis)\n",
        "plt.show()\n",
        "# plt.imsave(\"OriginalImages.png\",np.transpose(orig_grid[0], (0, 1)),  dpi=600)\n",
        "# files.download(\"OriginalImages.png\") \n",
        "\n",
        "plt.figure()\n",
        "plt.imshow(np.transpose(adv_grid[0], (0, 1)), cmap=cm.viridis)\n",
        "plt.show()\n",
        "# plt.imsave(\"AdverserialImages.png\", np.transpose(adv_grid[0], (0, 1)), dpi=600)\n",
        "# files.download(\"AdverserialImages.png\") \n",
        "  \n",
        "print(\"Initial predictions: {}\".format(orig_preds))\n",
        "print(\"Flipped (adverserial) predictions: {}\".format(adver_preds))\n",
        "print(\"Flipped (adverserial) confidences: {}\".format(adver_confs))"
      ],
      "execution_count": 0,
      "outputs": [
        {
          "output_type": "display_data",
          "data": {
            "image/png": "[encoded data removed]",
            "text/plain": [
              "<Figure size 432x288 with 1 Axes>"
            ]
          },
          "metadata": {
            "tags": []
          }
        },
        {
          "output_type": "display_data",
          "data": {
            "image/png": "[encoded data removed]",
            "text/plain": [
              "<Figure size 432x288 with 1 Axes>"
            ]
          },
          "metadata": {
            "tags": []
          }
        },
        {
          "output_type": "stream",
          "text": [
            "Initial predictions: [2, 1, 1, 0, 3]\n",
            "Flipped (adverserial) predictions: [8, 9, 2, 7, 0]\n",
            "Flipped (adverserial) confidences: [0.9703852534294128, 0.9479366540908813, 0.9993643164634705, 0.9800644516944885, 0.9954448938369751]\n"
          ],
          "name": "stdout"
        }
      ]
    },
    {
      "cell_type": "markdown",
      "metadata": {
        "id": "gMV2bZkRsew0",
        "colab_type": "text"
      },
      "source": [
        "**Part 4.2 - Generating Adverserial Images of a Specific Target Class**"
      ]
    },
    {
      "cell_type": "code",
      "metadata": {
        "id": "anh-HEwdty59",
        "colab_type": "code",
        "colab": {}
      },
      "source": [
        "MAX_ATTACKS_ON_BATCH = 2"
      ],
      "execution_count": 0,
      "outputs": []
    },
    {
      "cell_type": "code",
      "metadata": {
        "id": "MpgeM4efsgL1",
        "colab_type": "code",
        "colab": {}
      },
      "source": [
        "def test_adv(model, device, test_loader, epsilon, adv_target, save_images=False):\n",
        "\n",
        "    # Accuracy counter\n",
        "    correct = 0\n",
        "    adv_examples = []\n",
        "\n",
        "    # Loop over all examples in test set\n",
        "    for data, _ in test_loader:\n",
        "\n",
        "      # Only for the forced prediction part\n",
        "        force_target = torch.ones(\n",
        "          data.shape[0],\n",
        "          dtype=torch.int64,\n",
        "          requires_grad=False) * adv_target\n",
        "      \n",
        "        # If doing task #2, specificy force_target as \"target\"\n",
        "        data, force_target = data.to(device), force_target.to(device)\n",
        "        data.requires_grad = True\n",
        "        \n",
        "        feed_data = data\n",
        "        n_attacks = 0\n",
        "        \n",
        "        while n_attacks < MAX_ATTACKS_ON_BATCH:\n",
        "        \n",
        "          output = model(feed_data)                       \n",
        "          init_conf, init_pred = output.max(1)\n",
        "\n",
        "          # For forcing the adverserial, use the negative of the loss\n",
        "          loss = -1 * F.nll_loss(output, force_target) \n",
        "\n",
        "          model.zero_grad() # zero grads\n",
        "\n",
        "          loss.backward()\n",
        "            \n",
        "          data_grad = data.grad.data # get I_pet grad\n",
        "\n",
        "          perturbed_data = attack(feed_data, epsilon, data_grad) # attack\n",
        "\n",
        "          output = model(perturbed_data)\n",
        "          final_conf, final_pred = output.max(1)\n",
        "          \n",
        "          # STOPPING CRITERIA. \n",
        "          high_conf_flips = (\n",
        "              (torch.eq(init_pred, force_target) == 0) & # initial pred. wrong\n",
        "              (torch.eq(final_pred, force_target) == 1) & # final pred. right\n",
        "              (final_conf > 0.9)).nonzero() # confidence on final >90%\n",
        " \n",
        "          # The number of flips with high confidence (>90%)\n",
        "          n_hconf = high_conf_flips.view(-1).size(0)\n",
        "\n",
        "          if n_hconf > 0:\n",
        "            print(\"Hunted a rare 0.9 misclassification!\")\n",
        "            break\n",
        "          else:\n",
        "            feed_data = perturbed_data.detach()\n",
        "            n_attacks += 1\n",
        "        \n",
        "        # Compute the batch accuracy (where correctness is now target label)\n",
        "        # This will be LOW\n",
        "        correct_in_minibatch = torch.eq(final_pred, force_target).sum().item()\n",
        "        correct += correct_in_minibatch\n",
        "        \n",
        "        # FANCY SAVING for report\n",
        "        if save_images:\n",
        "          if len(adv_examples) < 5:\n",
        "            \n",
        "            # Pick a sample from the batch meeting the stopping criteria above\n",
        "            flipped_preds = (\n",
        "                (torch.eq(init_pred, force_target) == 0) &\n",
        "                (torch.eq(final_pred, force_target) == 1) &\n",
        "                (final_conf > 0.9)).nonzero().view(-1)\n",
        "            \n",
        "            if flipped_preds.size(0) == 0:\n",
        "              continue\n",
        "            else:\n",
        "              print(\"Saving a rare 0.9 misclassification!\")\n",
        "            \n",
        "            # Multiple flips per-minibatch. Pick 1 randomly.\n",
        "            idx = torch.randint(0, flipped_preds.size(0), (1,))\n",
        "            selx = flipped_preds[idx]\n",
        "            \n",
        "            # Store the original (image.)\n",
        "            original_ex = data[selx].squeeze().detach().cpu().numpy()\n",
        "            # Store the flipped (adver.) image\n",
        "            flipped_ex = perturbed_data[selx].squeeze().detach().cpu().numpy()\n",
        "            # Store the flipped initial prediction\n",
        "            init_pred_ex = init_pred[selx].item()\n",
        "            # Store the flipped final prediction\n",
        "            final_pred_ex = final_pred[selx].item() \n",
        "            # Store the flipped final prediction confidence\n",
        "            final_conf_ex = final_conf[selx].item() \n",
        "            # Save it all\n",
        "            adv_examples.append((\n",
        "                init_pred_ex,\n",
        "                final_pred_ex,\n",
        "                final_conf_ex,\n",
        "                flipped_ex,\n",
        "                original_ex))\n",
        "\n",
        "    # Calculate final accuracy for this epsilon\n",
        "    final_acc = correct / (float(len(test_loader) * test_loader.batch_size))\n",
        "    print(\"Epsilon: {} | Test Acc. = {}\".format(epsilon, final_acc))\n",
        "\n",
        "    # Return the accuracy and an adversarial example\n",
        "    return final_acc, adv_examples"
      ],
      "execution_count": 0,
      "outputs": []
    },
    {
      "cell_type": "markdown",
      "metadata": {
        "id": "21jt17UUyVRn",
        "colab_type": "text"
      },
      "source": [
        "**And now we run our attack...**"
      ]
    },
    {
      "cell_type": "code",
      "metadata": {
        "id": "DnRPTGlss7dQ",
        "colab_type": "code",
        "outputId": "30cf0b1b-da85-40c3-dc7b-d73d37a98503",
        "colab": {
          "base_uri": "https://localhost:8080/",
          "height": 714
        }
      },
      "source": [
        "# Not included, but epsilon = 0 is just test accuracy\n",
        "ADV_TARGET = 8\n",
        "epsilons = [0.05]\n",
        "accuracies = []\n",
        "examples = None\n",
        "\n",
        "# Run test for each epsilon\n",
        "for eps in epsilons:\n",
        "    # Only save images for epsilon 0.4 (for report)\n",
        "    if eps == 0.05:\n",
        "      acc, ex = test_adv(net, DEVICE, testloader, eps, ADV_TARGET, save_images=True)\n",
        "      examples = ex\n",
        "    else:\n",
        "      acc, _ = test_adv(net, DEVICE, testloader, eps, ADV_TARGET, save_images=False)\n",
        "      \n",
        "    accuracies.append(acc)"
      ],
      "execution_count": 50,
      "outputs": [
        {
          "output_type": "stream",
          "text": [
            "Hunted a rare 0.9 misclassification!\n",
            "Saving a rare 0.9 misclassification!\n",
            "Hunted a rare 0.9 misclassification!\n",
            "Saving a rare 0.9 misclassification!\n",
            "Hunted a rare 0.9 misclassification!\n",
            "Saving a rare 0.9 misclassification!\n",
            "Hunted a rare 0.9 misclassification!\n",
            "Saving a rare 0.9 misclassification!\n",
            "Hunted a rare 0.9 misclassification!\n",
            "Saving a rare 0.9 misclassification!\n",
            "Hunted a rare 0.9 misclassification!\n",
            "Hunted a rare 0.9 misclassification!\n",
            "Hunted a rare 0.9 misclassification!\n",
            "Hunted a rare 0.9 misclassification!\n",
            "Hunted a rare 0.9 misclassification!\n",
            "Hunted a rare 0.9 misclassification!\n",
            "Hunted a rare 0.9 misclassification!\n",
            "Hunted a rare 0.9 misclassification!\n",
            "Hunted a rare 0.9 misclassification!\n",
            "Hunted a rare 0.9 misclassification!\n",
            "Hunted a rare 0.9 misclassification!\n",
            "Hunted a rare 0.9 misclassification!\n",
            "Hunted a rare 0.9 misclassification!\n",
            "Hunted a rare 0.9 misclassification!\n",
            "Hunted a rare 0.9 misclassification!\n",
            "Hunted a rare 0.9 misclassification!\n",
            "Hunted a rare 0.9 misclassification!\n",
            "Hunted a rare 0.9 misclassification!\n",
            "Hunted a rare 0.9 misclassification!\n",
            "Hunted a rare 0.9 misclassification!\n",
            "Hunted a rare 0.9 misclassification!\n",
            "Hunted a rare 0.9 misclassification!\n",
            "Hunted a rare 0.9 misclassification!\n",
            "Hunted a rare 0.9 misclassification!\n",
            "Hunted a rare 0.9 misclassification!\n",
            "Hunted a rare 0.9 misclassification!\n",
            "Hunted a rare 0.9 misclassification!\n",
            "Hunted a rare 0.9 misclassification!\n",
            "Hunted a rare 0.9 misclassification!\n",
            "Hunted a rare 0.9 misclassification!\n",
            "Epsilon: 0.05 | Test Acc. = 0.0962\n"
          ],
          "name": "stdout"
        }
      ]
    },
    {
      "cell_type": "code",
      "metadata": {
        "id": "4W3kxwu3tVCq",
        "colab_type": "code",
        "outputId": "172b3248-1b6a-4605-a319-815f4aed7ace",
        "colab": {
          "base_uri": "https://localhost:8080/",
          "height": 403
        }
      },
      "source": [
        "orig_grid = np.empty([len(examples), 1, 28, 28])\n",
        "adv_grid = np.empty([len(examples), 1, 28, 28])\n",
        "\n",
        "orig_preds = [None] * len(examples)\n",
        "adver_preds = [None] * len(examples)\n",
        "adver_confs = [None] * len(examples)\n",
        "\n",
        "for i, ex in enumerate(examples):\n",
        "  orig_preds[i] = ex[0]\n",
        "  adver_preds[i] = ex[1]\n",
        "  adver_confs[i] = ex[2]\n",
        "  adv_grid[i, 0] = ex[3]\n",
        "  orig_grid[i, 0] = ex[4]\n",
        "\n",
        "orig_grid = torchvision.utils.make_grid(torch.from_numpy(orig_grid)).numpy()\n",
        "adv_grid = torchvision.utils.make_grid(torch.from_numpy(adv_grid)).numpy()\n",
        "diff_grid = torchvision.utils.make_grid(torch.from_numpy(adv_grid - orig_grid)).numpy()\n",
        "  \n",
        "# Unnormalize for display purposes\n",
        "orig_grid = orig_grid / 2 + 0.5\n",
        "adv_grid = adv_grid / 2 + 0.5\n",
        "diff_grid = diff_grid / 2 + 0.5\n",
        "\n",
        "plt.figure()\n",
        "plt.imshow(np.transpose(orig_grid[0], (0, 1)), cmap=cm.viridis)\n",
        "plt.show()\n",
        "plt.imsave(\"OriginalImages.png\",np.transpose(orig_grid[0], (0, 1)),  dpi=600)\n",
        "files.download(\"OriginalImages.png\") \n",
        "\n",
        "plt.figure()\n",
        "plt.imshow(np.transpose(adv_grid[0], (0, 1)), cmap=cm.viridis)\n",
        "plt.show()\n",
        "plt.imsave(\"AdverserialImages.png\", np.transpose(adv_grid[0], (0, 1)), dpi=600)\n",
        "files.download(\"AdverserialImages.png\") \n",
        "\n",
        "plt.figure()\n",
        "plt.imshow(np.transpose(diff_grid[0], (0, 1)), cmap=cm.viridis)\n",
        "plt.show()\n",
        "plt.imsave(\"DiffImages.png\", np.transpose(adv_grid[0], (0, 1)), dpi=600)\n",
        "files.download(\"DiffImages.png\") \n",
        "\n",
        "  \n",
        "print(\"Initial predictions: {}\".format(orig_preds))\n",
        "print(\"Flipped (adverserial) predictions: {}\".format(adver_preds))\n",
        "print(\"Flipped (adverserial) confidences: {}\".format(adver_confs))"
      ],
      "execution_count": 52,
      "outputs": [
        {
          "output_type": "display_data",
          "data": {
            "image/png": "[encoded data removed]",
            "text/plain": [
              "<Figure size 432x288 with 1 Axes>"
            ]
          },
          "metadata": {
            "tags": []
          }
        },
        {
          "output_type": "display_data",
          "data": {
            "image/png": "[encoded data removed]",
            "text/plain": [
              "<Figure size 432x288 with 1 Axes>"
            ]
          },
          "metadata": {
            "tags": []
          }
        },
        {
          "output_type": "display_data",
          "data": {
            "image/png": "[encoded data removed]",
            "text/plain": [
              "<Figure size 432x288 with 1 Axes>"
            ]
          },
          "metadata": {
            "tags": []
          }
        },
        {
          "output_type": "stream",
          "text": [
            "Initial predictions: [0, 9, 1, 0, 5]\n",
            "Flipped (adverserial) predictions: [8, 8, 8, 8, 8]\n",
            "Flipped (adverserial) confidences: [0.9999964237213135, 0.9999030828475952, 0.9722625017166138, 1.0, 1.0]\n"
          ],
          "name": "stdout"
        }
      ]
    },
    {
      "cell_type": "markdown",
      "metadata": {
        "id": "s_U8mgPmb6--",
        "colab_type": "text"
      },
      "source": [
        " Part 4.3 - Retrain Network with Adverserial examples"
      ]
    },
    {
      "cell_type": "code",
      "metadata": {
        "id": "7SaJSBVctbtg",
        "colab_type": "code",
        "outputId": "62ea6874-3812-4a14-f10d-5cfa7d1084fd",
        "colab": {
          "base_uri": "https://localhost:8080/",
          "height": 51
        }
      },
      "source": [
        "# We want to collect 1000 adverserial examples as our training/evaluation batch\n",
        "_, examples = test(net, DEVICE, testloader, 0.3, save_images=True, nsave=10000)\n",
        "\n",
        "print(\"Collected {} adverserial examples\".format(len(examples)))"
      ],
      "execution_count": 11,
      "outputs": [
        {
          "output_type": "stream",
          "text": [
            "Epsilon: 0.3 | Test Acc. = 0.5124\n",
            "Collected 2698 adverserial examples\n"
          ],
          "name": "stdout"
        }
      ]
    },
    {
      "cell_type": "code",
      "metadata": {
        "id": "z56gn1aVdSeQ",
        "colab_type": "code",
        "outputId": "fb6d5d86-7c20-4b98-c918-6bf5121d77c6",
        "colab": {
          "base_uri": "https://localhost:8080/",
          "height": 102
        }
      },
      "source": [
        "adv_ex = np.empty([len(examples), 1, 28, 28])\n",
        "orig_preds = np.empty(len(examples))\n",
        "\n",
        "\n",
        "for i, ex in enumerate(examples):\n",
        "  orig_preds[i] = ex[0]\n",
        "  adv_ex[i, 0] = ex[3]\n",
        "  \n",
        "y_train, y_test = np.split(orig_preds, [2250])\n",
        "X_train, X_test = np.split(adv_ex, [2250])\n",
        "batch_size = 50\n",
        "\n",
        "print(\"# Train images: {}\".format(len(X_train)))\n",
        "print(\"# Test images: {}\".format(len(X_test)))\n",
        "\n",
        "# Evaluate the network on the test set\n",
        "with torch.no_grad():\n",
        "  output = net(torch.from_numpy(X_test).float().cuda())\n",
        "  _, preds = output.max(1)\n",
        "  preds = preds.cpu().numpy()\n",
        "  old_acc = np.count_nonzero(np.equal(preds, y_test)) / len(orig_preds)\n",
        "  print(\"Initial evaluation accuracy on adverserial: {}\".format(old_acc))\n",
        "\n",
        "# Train in range \n",
        "for epoch in range(5):  # loop over the dataset multiple times\n",
        "\n",
        "  for i in range(len(X_train) // batch_size):\n",
        "      # get the inputs; data is a list of [inputs, labels]\n",
        "      \n",
        "      inputs = torch.from_numpy(X_train[i * batch_size: (i + 1) * batch_size]).float().cuda()\n",
        "      labels = torch.from_numpy(y_train[i * batch_size: (i + 1) * batch_size]).long().cuda()\n",
        "\n",
        "      # zero the parameter gradients\n",
        "      optimizer.zero_grad()\n",
        "\n",
        "      # forward + backward + optimize\n",
        "      outputs = net(inputs)\n",
        "      loss = criterion(outputs, labels)\n",
        "      loss.backward()\n",
        "      optimizer.step()\n",
        "\n",
        "\n",
        "# Re-evaluate the network on the test set\n",
        "with torch.no_grad():\n",
        "  output = net(torch.from_numpy(X_test).float().cuda())\n",
        "  _, preds = output.max(1)\n",
        "  preds = preds.cpu().numpy()\n",
        "  new_acc = np.count_nonzero(np.equal(preds, y_test)) / len(orig_preds)\n",
        "  print(\"Final evaluation accuracy on adverserial: {}\".format(new_acc))\n",
        "  \n",
        "print(\"Improvement on adverserial (in fancy %)\".format(new_acc / old_acc))"
      ],
      "execution_count": 18,
      "outputs": [
        {
          "output_type": "stream",
          "text": [
            "# Train images: 2250\n",
            "# Test images: 448\n",
            "Initial evaluation accuracy on adverserial: 0.16123054114158636\n",
            "Final evaluation accuracy on adverserial: 0.16345441067457375\n",
            "Improvement on adverserial (in fancy %)\n"
          ],
          "name": "stdout"
        }
      ]
    },
    {
      "cell_type": "code",
      "metadata": {
        "id": "xT9sip-c-6xz",
        "colab_type": "code",
        "colab": {}
      },
      "source": [
        ""
      ],
      "execution_count": 0,
      "outputs": []
    }
  ]
}